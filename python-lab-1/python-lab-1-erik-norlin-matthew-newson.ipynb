{
 "cells": [
  {
   "cell_type": "code",
   "execution_count": 3,
   "metadata": {},
   "outputs": [],
   "source": [
    "import numpy as np             \n",
    "import pandas as pd  #Python Data Analysis Library handle data in a user friendly way\n",
    "import scipy as sc\n",
    "import matplotlib.pyplot as plt #for plots\n",
    "import seaborn as sns # for better plots\n",
    "%matplotlib inline\n",
    "from sklearn import linear_model # A very popular Python library for Machine Learning\n",
    "from sklearn.linear_model import LinearRegression\n",
    "from sklearn.model_selection import train_test_split #needed to for assessing prediction\n",
    "from sklearn import datasets ## imports datasets from scikit-learn\n",
    "import statsmodels.api as sm"
   ]
  },
  {
   "cell_type": "markdown",
   "metadata": {},
   "source": [
    "We will begin with generating data."
   ]
  },
  {
   "cell_type": "code",
   "execution_count": 4,
   "metadata": {},
   "outputs": [
    {
     "data": {
      "text/plain": [
       "<matplotlib.legend.Legend at 0x1acc1022b00>"
      ]
     },
     "execution_count": 4,
     "metadata": {},
     "output_type": "execute_result"
    },
    {
     "data": {
      "image/png": "[encoded data removed]",
      "text/plain": [
       "<Figure size 640x480 with 1 Axes>"
      ]
     },
     "metadata": {},
     "output_type": "display_data"
    }
   ],
   "source": [
    "#Polynomial fitting exercises\n",
    "np.random.seed(1)\n",
    "n = 20 #number of points\n",
    "x = np.linspace(0, 1, n)\n",
    "f = np.sin(2*np.pi*x)\n",
    "y = f+0.3*np.random.randn(n)\n",
    "#plt.plot(xg,f,label='true process')\n",
    "plt.plot(x,y,'o',label='data')\n",
    "plt.plot(x,f,label='true process')\n",
    "plt.legend()"
   ]
  },
  {
   "cell_type": "markdown",
   "metadata": {},
   "source": [
    "We put x,y into the pandas dataframe called data. Also put a vector of ones as x0."
   ]
  },
  {
   "cell_type": "code",
   "execution_count": 5,
   "metadata": {},
   "outputs": [
    {
     "data": {
      "text/html": [
       "<div>\n",
       "<style scoped>\n",
       "    .dataframe tbody tr th:only-of-type {\n",
       "        vertical-align: middle;\n",
       "    }\n",
       "\n",
       "    .dataframe tbody tr th {\n",
       "        vertical-align: top;\n",
       "    }\n",
       "\n",
       "    .dataframe thead th {\n",
       "        text-align: right;\n",
       "    }\n",
       "</style>\n",
       "<table border=\"1\" class=\"dataframe\">\n",
       "  <thead>\n",
       "    <tr style=\"text-align: right;\">\n",
       "      <th></th>\n",
       "      <th>y</th>\n",
       "      <th>x0</th>\n",
       "      <th>x</th>\n",
       "      <th>x2</th>\n",
       "      <th>x3</th>\n",
       "      <th>x4</th>\n",
       "      <th>x5</th>\n",
       "      <th>x6</th>\n",
       "      <th>x7</th>\n",
       "      <th>x8</th>\n",
       "      <th>x9</th>\n",
       "      <th>x10</th>\n",
       "    </tr>\n",
       "  </thead>\n",
       "  <tbody>\n",
       "    <tr>\n",
       "      <th>0</th>\n",
       "      <td>0.487304</td>\n",
       "      <td>1.0</td>\n",
       "      <td>0.000000</td>\n",
       "      <td>0.000000</td>\n",
       "      <td>0.000000</td>\n",
       "      <td>0.000000</td>\n",
       "      <td>0.000000e+00</td>\n",
       "      <td>0.000000e+00</td>\n",
       "      <td>0.000000e+00</td>\n",
       "      <td>0.000000e+00</td>\n",
       "      <td>0.000000e+00</td>\n",
       "      <td>0.000000e+00</td>\n",
       "    </tr>\n",
       "    <tr>\n",
       "      <th>1</th>\n",
       "      <td>0.141173</td>\n",
       "      <td>1.0</td>\n",
       "      <td>0.052632</td>\n",
       "      <td>0.002770</td>\n",
       "      <td>0.000146</td>\n",
       "      <td>0.000008</td>\n",
       "      <td>4.038611e-07</td>\n",
       "      <td>2.125585e-08</td>\n",
       "      <td>1.118729e-09</td>\n",
       "      <td>5.888046e-11</td>\n",
       "      <td>3.098972e-12</td>\n",
       "      <td>1.631038e-13</td>\n",
       "    </tr>\n",
       "    <tr>\n",
       "      <th>2</th>\n",
       "      <td>0.455761</td>\n",
       "      <td>1.0</td>\n",
       "      <td>0.105263</td>\n",
       "      <td>0.011080</td>\n",
       "      <td>0.001166</td>\n",
       "      <td>0.000123</td>\n",
       "      <td>1.292355e-05</td>\n",
       "      <td>1.360374e-06</td>\n",
       "      <td>1.431973e-07</td>\n",
       "      <td>1.507340e-08</td>\n",
       "      <td>1.586673e-09</td>\n",
       "      <td>1.670183e-10</td>\n",
       "    </tr>\n",
       "    <tr>\n",
       "      <th>3</th>\n",
       "      <td>0.515276</td>\n",
       "      <td>1.0</td>\n",
       "      <td>0.157895</td>\n",
       "      <td>0.024931</td>\n",
       "      <td>0.003936</td>\n",
       "      <td>0.000622</td>\n",
       "      <td>9.813824e-05</td>\n",
       "      <td>1.549551e-05</td>\n",
       "      <td>2.446660e-06</td>\n",
       "      <td>3.863147e-07</td>\n",
       "      <td>6.099706e-08</td>\n",
       "      <td>9.631114e-09</td>\n",
       "    </tr>\n",
       "    <tr>\n",
       "      <th>4</th>\n",
       "      <td>1.229023</td>\n",
       "      <td>1.0</td>\n",
       "      <td>0.210526</td>\n",
       "      <td>0.044321</td>\n",
       "      <td>0.009331</td>\n",
       "      <td>0.001964</td>\n",
       "      <td>4.135537e-04</td>\n",
       "      <td>8.706395e-05</td>\n",
       "      <td>1.832925e-05</td>\n",
       "      <td>3.858790e-06</td>\n",
       "      <td>8.123768e-07</td>\n",
       "      <td>1.710267e-07</td>\n",
       "    </tr>\n",
       "  </tbody>\n",
       "</table>\n",
       "</div>"
      ],
      "text/plain": [
       "          y   x0         x        x2        x3        x4            x5   \n",
       "0  0.487304  1.0  0.000000  0.000000  0.000000  0.000000  0.000000e+00  \\\n",
       "1  0.141173  1.0  0.052632  0.002770  0.000146  0.000008  4.038611e-07   \n",
       "2  0.455761  1.0  0.105263  0.011080  0.001166  0.000123  1.292355e-05   \n",
       "3  0.515276  1.0  0.157895  0.024931  0.003936  0.000622  9.813824e-05   \n",
       "4  1.229023  1.0  0.210526  0.044321  0.009331  0.001964  4.135537e-04   \n",
       "\n",
       "             x6            x7            x8            x9           x10  \n",
       "0  0.000000e+00  0.000000e+00  0.000000e+00  0.000000e+00  0.000000e+00  \n",
       "1  2.125585e-08  1.118729e-09  5.888046e-11  3.098972e-12  1.631038e-13  \n",
       "2  1.360374e-06  1.431973e-07  1.507340e-08  1.586673e-09  1.670183e-10  \n",
       "3  1.549551e-05  2.446660e-06  3.863147e-07  6.099706e-08  9.631114e-09  \n",
       "4  8.706395e-05  1.832925e-05  3.858790e-06  8.123768e-07  1.710267e-07  "
      ]
     },
     "execution_count": 5,
     "metadata": {},
     "output_type": "execute_result"
    }
   ],
   "source": [
    "x0 = np.ones(n)\n",
    "data = pd.DataFrame(np.column_stack([y,x0,x]),columns=['y','x0','x']) \n",
    "#Expand the data including powers of x up to 10\n",
    "for i in range(2,11):  #executes the following indented commands for i varying from 3 to 9\n",
    "    colname = 'x%d'%i # the %d %i puts a different number in the name of each variable\n",
    "    data[colname] = data['x']**i #raise to the power of i\n",
    "    # the for loop continues until the first time a command is not indented.\n",
    "data.head()"
   ]
  },
  {
   "cell_type": "code",
   "execution_count": 6,
   "metadata": {},
   "outputs": [
    {
     "data": {
      "text/plain": [
       "<matplotlib.legend.Legend at 0x1acd452b190>"
      ]
     },
     "execution_count": 6,
     "metadata": {},
     "output_type": "execute_result"
    },
    {
     "data": {
      "image/png": "[encoded data removed]",
      "text/plain": [
       "<Figure size 640x480 with 1 Axes>"
      ]
     },
     "metadata": {},
     "output_type": "display_data"
    }
   ],
   "source": [
    "npower = 2\n",
    "predictors = ['x']\n",
    "predictors.extend(['x%d'%i for i in range(2,npower+1)])\n",
    "linreg = LinearRegression(fit_intercept=True)\n",
    "linreg.fit(data[predictors],data['y'])\n",
    "y_pred = linreg.predict(data[predictors])\n",
    "plt.plot(data['x'],y_pred, label='LS fit')\n",
    "plt.plot(data['x'],data['y'],'o',label='data')\n",
    "plt.plot(x,f,label='true process')\n",
    "plt.title('Plot for power: %d'%npower)\n",
    "plt.legend()"
   ]
  },
  {
   "cell_type": "markdown",
   "metadata": {},
   "source": [
    "### Matrix operations\n",
    "\n",
    "Below we find the MLE without the scikit linear regression function. For that we\n",
    "\n",
    "1. Form the design matrix $X$ and the response vector y\n",
    "2. Calculate the MLE as $$\\hat{\\beta} = (X^T X)^{-1}X^T y$$\n",
    "\n",
    "The code below does that and also prints $X^T X$ and $(X^T X)^{-1}$ for checking."
   ]
  },
  {
   "cell_type": "code",
   "execution_count": 7,
   "metadata": {},
   "outputs": [
    {
     "data": {
      "text/plain": [
       "(           x0          x        x2\n",
       " x0  20.000000  10.000000  6.842105\n",
       " x   10.000000   6.842105  5.263158\n",
       " x2   6.842105   5.263158  4.317539,\n",
       " array([[ 0.37077922, -1.44350649,  1.17207792],\n",
       "        [-1.44350649,  7.96601732, -7.42316017],\n",
       "        [ 1.17207792, -7.42316017,  7.42316017]]),\n",
       " array([ 0.88516511, -2.23262046,  0.55870444]))"
      ]
     },
     "execution_count": 7,
     "metadata": {},
     "output_type": "execute_result"
    }
   ],
   "source": [
    "npower = 2\n",
    "predictors = ['x0','x']\n",
    "predictors.extend(['x%d'%i for i in range(2,npower+1)])\n",
    "X = data[predictors]\n",
    "y = data['y']\n",
    "XtX = X.T.dot(X) #X.T give X transpose X.dot(b) does matrix multiplication X*b\n",
    "XtX_inv = sc.linalg.inv(XtX) #sc.linalg.inv(A) provide the inverse of A\n",
    "beta = XtX_inv.dot(X.T.dot(y))\n",
    "XtX, XtX_inv, beta"
   ]
  },
  {
   "cell_type": "markdown",
   "metadata": {},
   "source": [
    "Check the $\\beta$ you found with the scikit function:"
   ]
  },
  {
   "cell_type": "code",
   "execution_count": 8,
   "metadata": {},
   "outputs": [
    {
     "name": "stdout",
     "output_type": "stream",
     "text": [
      "Beta scikit 0.885165107953048 [-2.23262046  0.55870444]\n"
     ]
    }
   ],
   "source": [
    "print('Beta scikit', linreg.intercept_, linreg.coef_)"
   ]
  },
  {
   "cell_type": "markdown",
   "metadata": {},
   "source": [
    "We can go beyond the point estimate and calculate the variance of $\\hat{\\beta}$.\n",
    "\n",
    "The code below provides $\\hat{\\sigma}^2$, the covariance matrix $$\\text{var}[\\hat{\\beta}] = \\hat{\\sigma}^2 (X^T X)^{-1}, $$\n",
    "and its diagonal."
   ]
  },
  {
   "cell_type": "code",
   "execution_count": 9,
   "metadata": {},
   "outputs": [
    {
     "data": {
      "text/plain": [
       "(0.3881246982512338,\n",
       " array([[ 0.14390857, -0.56026052,  0.45491239],\n",
       "        [-0.56026052,  3.09180807, -2.8811118 ],\n",
       "        [ 0.45491239, -2.8811118 ,  2.8811118 ]]),\n",
       " array([0.14390857, 3.09180807, 2.8811118 ]))"
      ]
     },
     "execution_count": 9,
     "metadata": {},
     "output_type": "execute_result"
    }
   ],
   "source": [
    "n,p = X.shape\n",
    "e = y - X.dot(beta)# beta is your derived MLE coefficents in the previous cells\n",
    "sigma2_hat = e.T.dot(e)/(n-p)\n",
    "var_beta = sigma2_hat*(sc.linalg.inv(X.T.dot(X)))\n",
    "sigma2_hat, var_beta, np.diag(var_beta)"
   ]
  },
  {
   "cell_type": "markdown",
   "metadata": {},
   "source": [
    "With the above quantities we can calculate confidence intervals for MLE's. For those we will need the 97.5\\% point of the $t_{n-p}$ distribution. \n",
    "\n",
    "The following code does that and also puts the results in pandas dataframe."
   ]
  },
  {
   "cell_type": "code",
   "execution_count": 10,
   "metadata": {},
   "outputs": [
    {
     "data": {
      "text/html": [
       "<div>\n",
       "<style scoped>\n",
       "    .dataframe tbody tr th:only-of-type {\n",
       "        vertical-align: middle;\n",
       "    }\n",
       "\n",
       "    .dataframe tbody tr th {\n",
       "        vertical-align: top;\n",
       "    }\n",
       "\n",
       "    .dataframe thead th {\n",
       "        text-align: right;\n",
       "    }\n",
       "</style>\n",
       "<table border=\"1\" class=\"dataframe\">\n",
       "  <thead>\n",
       "    <tr style=\"text-align: right;\">\n",
       "      <th></th>\n",
       "      <th>coefficient</th>\n",
       "      <th>se</th>\n",
       "      <th>lower 95% bound</th>\n",
       "      <th>upper 95% bound</th>\n",
       "    </tr>\n",
       "  </thead>\n",
       "  <tbody>\n",
       "    <tr>\n",
       "      <th>intercept</th>\n",
       "      <td>0.885165</td>\n",
       "      <td>0.379353</td>\n",
       "      <td>0.084801</td>\n",
       "      <td>1.685530</td>\n",
       "    </tr>\n",
       "    <tr>\n",
       "      <th>x</th>\n",
       "      <td>-2.232620</td>\n",
       "      <td>1.758354</td>\n",
       "      <td>-5.942423</td>\n",
       "      <td>1.477182</td>\n",
       "    </tr>\n",
       "    <tr>\n",
       "      <th>x2</th>\n",
       "      <td>0.558704</td>\n",
       "      <td>1.697384</td>\n",
       "      <td>-3.022462</td>\n",
       "      <td>4.139871</td>\n",
       "    </tr>\n",
       "  </tbody>\n",
       "</table>\n",
       "</div>"
      ],
      "text/plain": [
       "           coefficient        se  lower 95% bound  upper 95% bound\n",
       "intercept     0.885165  0.379353         0.084801         1.685530\n",
       "x            -2.232620  1.758354        -5.942423         1.477182\n",
       "x2            0.558704  1.697384        -3.022462         4.139871"
      ]
     },
     "execution_count": 10,
     "metadata": {},
     "output_type": "execute_result"
    }
   ],
   "source": [
    "#calculate 95% CI for beta and present output via a pandas data frame \n",
    "tval = sc.stats.t.ppf(0.975,n-p)\n",
    "std_beta = np.sqrt(np.diag(var_beta))\n",
    "lower95 = beta - tval*std_beta\n",
    "upper95 = beta + tval*std_beta\n",
    "results = np.column_stack([beta,std_beta,lower95,upper95])\n",
    "col = ['coefficient','se','lower 95% bound','upper 95% bound']\n",
    "ind = ['intercept','x','x2']\n",
    "results = pd.DataFrame(results,columns = col,index=ind)\n",
    "results"
   ]
  },
  {
   "cell_type": "markdown",
   "metadata": {},
   "source": [
    "To check our answers we also use the relevant function (.OLS) of the library **statsmodels**  "
   ]
  },
  {
   "cell_type": "code",
   "execution_count": 11,
   "metadata": {},
   "outputs": [
    {
     "data": {
      "text/html": [
       "<table class=\"simpletable\">\n",
       "<caption>OLS Regression Results</caption>\n",
       "<tr>\n",
       "  <th>Dep. Variable:</th>            <td>y</td>        <th>  R-squared:         </th> <td>   0.441</td>\n",
       "</tr>\n",
       "<tr>\n",
       "  <th>Model:</th>                   <td>OLS</td>       <th>  Adj. R-squared:    </th> <td>   0.375</td>\n",
       "</tr>\n",
       "<tr>\n",
       "  <th>Method:</th>             <td>Least Squares</td>  <th>  F-statistic:       </th> <td>   6.704</td>\n",
       "</tr>\n",
       "<tr>\n",
       "  <th>Date:</th>             <td>Wed, 15 Nov 2023</td> <th>  Prob (F-statistic):</th>  <td>0.00714</td>\n",
       "</tr>\n",
       "<tr>\n",
       "  <th>Time:</th>                 <td>21:12:01</td>     <th>  Log-Likelihood:    </th> <td> -17.289</td>\n",
       "</tr>\n",
       "<tr>\n",
       "  <th>No. Observations:</th>      <td>    20</td>      <th>  AIC:               </th> <td>   40.58</td>\n",
       "</tr>\n",
       "<tr>\n",
       "  <th>Df Residuals:</th>          <td>    17</td>      <th>  BIC:               </th> <td>   43.57</td>\n",
       "</tr>\n",
       "<tr>\n",
       "  <th>Df Model:</th>              <td>     2</td>      <th>                     </th>     <td> </td>   \n",
       "</tr>\n",
       "<tr>\n",
       "  <th>Covariance Type:</th>      <td>nonrobust</td>    <th>                     </th>     <td> </td>   \n",
       "</tr>\n",
       "</table>\n",
       "<table class=\"simpletable\">\n",
       "<tr>\n",
       "    <td></td>       <th>coef</th>     <th>std err</th>      <th>t</th>      <th>P>|t|</th>  <th>[0.025</th>    <th>0.975]</th>  \n",
       "</tr>\n",
       "<tr>\n",
       "  <th>const</th> <td>    0.8852</td> <td>    0.379</td> <td>    2.333</td> <td> 0.032</td> <td>    0.085</td> <td>    1.686</td>\n",
       "</tr>\n",
       "<tr>\n",
       "  <th>x</th>     <td>   -2.2326</td> <td>    1.758</td> <td>   -1.270</td> <td> 0.221</td> <td>   -5.942</td> <td>    1.477</td>\n",
       "</tr>\n",
       "<tr>\n",
       "  <th>x2</th>    <td>    0.5587</td> <td>    1.697</td> <td>    0.329</td> <td> 0.746</td> <td>   -3.022</td> <td>    4.140</td>\n",
       "</tr>\n",
       "</table>\n",
       "<table class=\"simpletable\">\n",
       "<tr>\n",
       "  <th>Omnibus:</th>       <td> 1.146</td> <th>  Durbin-Watson:     </th> <td>   1.109</td>\n",
       "</tr>\n",
       "<tr>\n",
       "  <th>Prob(Omnibus):</th> <td> 0.564</td> <th>  Jarque-Bera (JB):  </th> <td>   1.040</td>\n",
       "</tr>\n",
       "<tr>\n",
       "  <th>Skew:</th>          <td> 0.412</td> <th>  Prob(JB):          </th> <td>   0.595</td>\n",
       "</tr>\n",
       "<tr>\n",
       "  <th>Kurtosis:</th>      <td> 2.245</td> <th>  Cond. No.          </th> <td>    20.9</td>\n",
       "</tr>\n",
       "</table><br/><br/>Notes:<br/>[1] Standard Errors assume that the covariance matrix of the errors is correctly specified."
      ],
      "text/latex": [
       "\\begin{center}\n",
       "\\begin{tabular}{lclc}\n",
       "\\toprule\n",
       "\\textbf{Dep. Variable:}    &        y         & \\textbf{  R-squared:         } &     0.441   \\\\\n",
       "\\textbf{Model:}            &       OLS        & \\textbf{  Adj. R-squared:    } &     0.375   \\\\\n",
       "\\textbf{Method:}           &  Least Squares   & \\textbf{  F-statistic:       } &     6.704   \\\\\n",
       "\\textbf{Date:}             & Wed, 15 Nov 2023 & \\textbf{  Prob (F-statistic):} &  0.00714    \\\\\n",
       "\\textbf{Time:}             &     21:12:01     & \\textbf{  Log-Likelihood:    } &   -17.289   \\\\\n",
       "\\textbf{No. Observations:} &          20      & \\textbf{  AIC:               } &     40.58   \\\\\n",
       "\\textbf{Df Residuals:}     &          17      & \\textbf{  BIC:               } &     43.57   \\\\\n",
       "\\textbf{Df Model:}         &           2      & \\textbf{                     } &             \\\\\n",
       "\\textbf{Covariance Type:}  &    nonrobust     & \\textbf{                     } &             \\\\\n",
       "\\bottomrule\n",
       "\\end{tabular}\n",
       "\\begin{tabular}{lcccccc}\n",
       "               & \\textbf{coef} & \\textbf{std err} & \\textbf{t} & \\textbf{P$> |$t$|$} & \\textbf{[0.025} & \\textbf{0.975]}  \\\\\n",
       "\\midrule\n",
       "\\textbf{const} &       0.8852  &        0.379     &     2.333  &         0.032        &        0.085    &        1.686     \\\\\n",
       "\\textbf{x}     &      -2.2326  &        1.758     &    -1.270  &         0.221        &       -5.942    &        1.477     \\\\\n",
       "\\textbf{x2}    &       0.5587  &        1.697     &     0.329  &         0.746        &       -3.022    &        4.140     \\\\\n",
       "\\bottomrule\n",
       "\\end{tabular}\n",
       "\\begin{tabular}{lclc}\n",
       "\\textbf{Omnibus:}       &  1.146 & \\textbf{  Durbin-Watson:     } &    1.109  \\\\\n",
       "\\textbf{Prob(Omnibus):} &  0.564 & \\textbf{  Jarque-Bera (JB):  } &    1.040  \\\\\n",
       "\\textbf{Skew:}          &  0.412 & \\textbf{  Prob(JB):          } &    0.595  \\\\\n",
       "\\textbf{Kurtosis:}      &  2.245 & \\textbf{  Cond. No.          } &     20.9  \\\\\n",
       "\\bottomrule\n",
       "\\end{tabular}\n",
       "%\\caption{OLS Regression Results}\n",
       "\\end{center}\n",
       "\n",
       "Notes: \\newline\n",
       " [1] Standard Errors assume that the covariance matrix of the errors is correctly specified."
      ],
      "text/plain": [
       "<class 'statsmodels.iolib.summary.Summary'>\n",
       "\"\"\"\n",
       "                            OLS Regression Results                            \n",
       "==============================================================================\n",
       "Dep. Variable:                      y   R-squared:                       0.441\n",
       "Model:                            OLS   Adj. R-squared:                  0.375\n",
       "Method:                 Least Squares   F-statistic:                     6.704\n",
       "Date:                Wed, 15 Nov 2023   Prob (F-statistic):            0.00714\n",
       "Time:                        21:12:01   Log-Likelihood:                -17.289\n",
       "No. Observations:                  20   AIC:                             40.58\n",
       "Df Residuals:                      17   BIC:                             43.57\n",
       "Df Model:                           2                                         \n",
       "Covariance Type:            nonrobust                                         \n",
       "==============================================================================\n",
       "                 coef    std err          t      P>|t|      [0.025      0.975]\n",
       "------------------------------------------------------------------------------\n",
       "const          0.8852      0.379      2.333      0.032       0.085       1.686\n",
       "x             -2.2326      1.758     -1.270      0.221      -5.942       1.477\n",
       "x2             0.5587      1.697      0.329      0.746      -3.022       4.140\n",
       "==============================================================================\n",
       "Omnibus:                        1.146   Durbin-Watson:                   1.109\n",
       "Prob(Omnibus):                  0.564   Jarque-Bera (JB):                1.040\n",
       "Skew:                           0.412   Prob(JB):                        0.595\n",
       "Kurtosis:                       2.245   Cond. No.                         20.9\n",
       "==============================================================================\n",
       "\n",
       "Notes:\n",
       "[1] Standard Errors assume that the covariance matrix of the errors is correctly specified.\n",
       "\"\"\""
      ]
     },
     "execution_count": 11,
     "metadata": {},
     "output_type": "execute_result"
    }
   ],
   "source": [
    "Poly = ['x','x2']\n",
    "X = data[Poly]\n",
    "X = sm.add_constant(X) \n",
    "model = sm.OLS(y, X).fit()\n",
    "model.summary()"
   ]
  },
  {
   "cell_type": "markdown",
   "metadata": {},
   "source": [
    "In the following cells:\n",
    "1. Obtain the MLEs and 95\\% confidence intervals for the 3rd order polynomial without using any Python built in function. \n",
    "2. Check your answers against the statsmodels corresponding function (.OLS)"
   ]
  },
  {
   "cell_type": "code",
   "execution_count": 12,
   "metadata": {},
   "outputs": [
    {
     "name": "stdout",
     "output_type": "stream",
     "text": [
      "0.15058878555441896\n"
     ]
    },
    {
     "data": {
      "text/html": [
       "<div>\n",
       "<style scoped>\n",
       "    .dataframe tbody tr th:only-of-type {\n",
       "        vertical-align: middle;\n",
       "    }\n",
       "\n",
       "    .dataframe tbody tr th {\n",
       "        vertical-align: top;\n",
       "    }\n",
       "\n",
       "    .dataframe thead th {\n",
       "        text-align: right;\n",
       "    }\n",
       "</style>\n",
       "<table border=\"1\" class=\"dataframe\">\n",
       "  <thead>\n",
       "    <tr style=\"text-align: right;\">\n",
       "      <th></th>\n",
       "      <th>coefficient</th>\n",
       "      <th>se</th>\n",
       "      <th>lower 95% bound</th>\n",
       "      <th>upper 95% bound</th>\n",
       "    </tr>\n",
       "  </thead>\n",
       "  <tbody>\n",
       "    <tr>\n",
       "      <th>intercept</th>\n",
       "      <td>-0.010460</td>\n",
       "      <td>0.290987</td>\n",
       "      <td>-0.627324</td>\n",
       "      <td>0.606404</td>\n",
       "    </tr>\n",
       "    <tr>\n",
       "      <th>x</th>\n",
       "      <td>10.124663</td>\n",
       "      <td>2.586393</td>\n",
       "      <td>4.641755</td>\n",
       "      <td>15.607572</td>\n",
       "    </tr>\n",
       "    <tr>\n",
       "      <th>x2</th>\n",
       "      <td>-31.139397</td>\n",
       "      <td>6.102501</td>\n",
       "      <td>-44.076122</td>\n",
       "      <td>-18.202672</td>\n",
       "    </tr>\n",
       "    <tr>\n",
       "      <th>x3</th>\n",
       "      <td>21.132068</td>\n",
       "      <td>4.006810</td>\n",
       "      <td>12.638011</td>\n",
       "      <td>29.626125</td>\n",
       "    </tr>\n",
       "  </tbody>\n",
       "</table>\n",
       "</div>"
      ],
      "text/plain": [
       "           coefficient        se  lower 95% bound  upper 95% bound\n",
       "intercept    -0.010460  0.290987        -0.627324         0.606404\n",
       "x            10.124663  2.586393         4.641755        15.607572\n",
       "x2          -31.139397  6.102501       -44.076122       -18.202672\n",
       "x3           21.132068  4.006810        12.638011        29.626125"
      ]
     },
     "execution_count": 12,
     "metadata": {},
     "output_type": "execute_result"
    }
   ],
   "source": [
    "cubic = ['x0','x','x2','x3']\n",
    "X = data[cubic]\n",
    "\n",
    "XtX_inv = sc.linalg.inv(X.T @ X)\n",
    "beta = XtX_inv.dot(X.T.dot(y))\n",
    "\n",
    "e = y - X.dot(beta)\n",
    "n, p = X.shape\n",
    "\n",
    "var_data = (e.T @ e) / (n-p)\n",
    "var_beta = var_data * XtX_inv\n",
    "std_beta = np.diag(var_beta)**0.5\n",
    "print(var_data)\n",
    "\n",
    "\n",
    "t_val = sc.stats.t.ppf(0.975,n-p)\n",
    "lower_95 = beta - t_val * std_beta\n",
    "upper_95 = beta + t_val * std_beta\n",
    "\n",
    "results = np.column_stack([beta,std_beta,lower_95,upper_95])\n",
    "col = ['coefficient','se','lower 95% bound','upper 95% bound']\n",
    "ind = ['intercept','x','x2','x3']\n",
    "results = pd.DataFrame(results,columns = col,index=ind)\n",
    "results\n"
   ]
  },
  {
   "cell_type": "code",
   "execution_count": 13,
   "metadata": {},
   "outputs": [
    {
     "data": {
      "text/html": [
       "<table class=\"simpletable\">\n",
       "<caption>OLS Regression Results</caption>\n",
       "<tr>\n",
       "  <th>Dep. Variable:</th>            <td>y</td>        <th>  R-squared:         </th> <td>   0.796</td>\n",
       "</tr>\n",
       "<tr>\n",
       "  <th>Model:</th>                   <td>OLS</td>       <th>  Adj. R-squared:    </th> <td>   0.758</td>\n",
       "</tr>\n",
       "<tr>\n",
       "  <th>Method:</th>             <td>Least Squares</td>  <th>  F-statistic:       </th> <td>   20.79</td>\n",
       "</tr>\n",
       "<tr>\n",
       "  <th>Date:</th>             <td>Wed, 15 Nov 2023</td> <th>  Prob (F-statistic):</th> <td>9.12e-06</td>\n",
       "</tr>\n",
       "<tr>\n",
       "  <th>Time:</th>                 <td>21:12:09</td>     <th>  Log-Likelihood:    </th> <td> -7.2153</td>\n",
       "</tr>\n",
       "<tr>\n",
       "  <th>No. Observations:</th>      <td>    20</td>      <th>  AIC:               </th> <td>   22.43</td>\n",
       "</tr>\n",
       "<tr>\n",
       "  <th>Df Residuals:</th>          <td>    16</td>      <th>  BIC:               </th> <td>   26.41</td>\n",
       "</tr>\n",
       "<tr>\n",
       "  <th>Df Model:</th>              <td>     3</td>      <th>                     </th>     <td> </td>   \n",
       "</tr>\n",
       "<tr>\n",
       "  <th>Covariance Type:</th>      <td>nonrobust</td>    <th>                     </th>     <td> </td>   \n",
       "</tr>\n",
       "</table>\n",
       "<table class=\"simpletable\">\n",
       "<tr>\n",
       "    <td></td>       <th>coef</th>     <th>std err</th>      <th>t</th>      <th>P>|t|</th>  <th>[0.025</th>    <th>0.975]</th>  \n",
       "</tr>\n",
       "<tr>\n",
       "  <th>const</th> <td>   -0.0105</td> <td>    0.291</td> <td>   -0.036</td> <td> 0.972</td> <td>   -0.627</td> <td>    0.606</td>\n",
       "</tr>\n",
       "<tr>\n",
       "  <th>x</th>     <td>   10.1247</td> <td>    2.586</td> <td>    3.915</td> <td> 0.001</td> <td>    4.642</td> <td>   15.608</td>\n",
       "</tr>\n",
       "<tr>\n",
       "  <th>x2</th>    <td>  -31.1394</td> <td>    6.103</td> <td>   -5.103</td> <td> 0.000</td> <td>  -44.076</td> <td>  -18.203</td>\n",
       "</tr>\n",
       "<tr>\n",
       "  <th>x3</th>    <td>   21.1321</td> <td>    4.007</td> <td>    5.274</td> <td> 0.000</td> <td>   12.638</td> <td>   29.626</td>\n",
       "</tr>\n",
       "</table>\n",
       "<table class=\"simpletable\">\n",
       "<tr>\n",
       "  <th>Omnibus:</th>       <td> 0.301</td> <th>  Durbin-Watson:     </th> <td>   2.750</td>\n",
       "</tr>\n",
       "<tr>\n",
       "  <th>Prob(Omnibus):</th> <td> 0.860</td> <th>  Jarque-Bera (JB):  </th> <td>   0.470</td>\n",
       "</tr>\n",
       "<tr>\n",
       "  <th>Skew:</th>          <td> 0.142</td> <th>  Prob(JB):          </th> <td>   0.790</td>\n",
       "</tr>\n",
       "<tr>\n",
       "  <th>Kurtosis:</th>      <td> 2.305</td> <th>  Cond. No.          </th> <td>    109.</td>\n",
       "</tr>\n",
       "</table><br/><br/>Notes:<br/>[1] Standard Errors assume that the covariance matrix of the errors is correctly specified."
      ],
      "text/latex": [
       "\\begin{center}\n",
       "\\begin{tabular}{lclc}\n",
       "\\toprule\n",
       "\\textbf{Dep. Variable:}    &        y         & \\textbf{  R-squared:         } &     0.796   \\\\\n",
       "\\textbf{Model:}            &       OLS        & \\textbf{  Adj. R-squared:    } &     0.758   \\\\\n",
       "\\textbf{Method:}           &  Least Squares   & \\textbf{  F-statistic:       } &     20.79   \\\\\n",
       "\\textbf{Date:}             & Wed, 15 Nov 2023 & \\textbf{  Prob (F-statistic):} &  9.12e-06   \\\\\n",
       "\\textbf{Time:}             &     21:12:09     & \\textbf{  Log-Likelihood:    } &   -7.2153   \\\\\n",
       "\\textbf{No. Observations:} &          20      & \\textbf{  AIC:               } &     22.43   \\\\\n",
       "\\textbf{Df Residuals:}     &          16      & \\textbf{  BIC:               } &     26.41   \\\\\n",
       "\\textbf{Df Model:}         &           3      & \\textbf{                     } &             \\\\\n",
       "\\textbf{Covariance Type:}  &    nonrobust     & \\textbf{                     } &             \\\\\n",
       "\\bottomrule\n",
       "\\end{tabular}\n",
       "\\begin{tabular}{lcccccc}\n",
       "               & \\textbf{coef} & \\textbf{std err} & \\textbf{t} & \\textbf{P$> |$t$|$} & \\textbf{[0.025} & \\textbf{0.975]}  \\\\\n",
       "\\midrule\n",
       "\\textbf{const} &      -0.0105  &        0.291     &    -0.036  &         0.972        &       -0.627    &        0.606     \\\\\n",
       "\\textbf{x}     &      10.1247  &        2.586     &     3.915  &         0.001        &        4.642    &       15.608     \\\\\n",
       "\\textbf{x2}    &     -31.1394  &        6.103     &    -5.103  &         0.000        &      -44.076    &      -18.203     \\\\\n",
       "\\textbf{x3}    &      21.1321  &        4.007     &     5.274  &         0.000        &       12.638    &       29.626     \\\\\n",
       "\\bottomrule\n",
       "\\end{tabular}\n",
       "\\begin{tabular}{lclc}\n",
       "\\textbf{Omnibus:}       &  0.301 & \\textbf{  Durbin-Watson:     } &    2.750  \\\\\n",
       "\\textbf{Prob(Omnibus):} &  0.860 & \\textbf{  Jarque-Bera (JB):  } &    0.470  \\\\\n",
       "\\textbf{Skew:}          &  0.142 & \\textbf{  Prob(JB):          } &    0.790  \\\\\n",
       "\\textbf{Kurtosis:}      &  2.305 & \\textbf{  Cond. No.          } &     109.  \\\\\n",
       "\\bottomrule\n",
       "\\end{tabular}\n",
       "%\\caption{OLS Regression Results}\n",
       "\\end{center}\n",
       "\n",
       "Notes: \\newline\n",
       " [1] Standard Errors assume that the covariance matrix of the errors is correctly specified."
      ],
      "text/plain": [
       "<class 'statsmodels.iolib.summary.Summary'>\n",
       "\"\"\"\n",
       "                            OLS Regression Results                            \n",
       "==============================================================================\n",
       "Dep. Variable:                      y   R-squared:                       0.796\n",
       "Model:                            OLS   Adj. R-squared:                  0.758\n",
       "Method:                 Least Squares   F-statistic:                     20.79\n",
       "Date:                Wed, 15 Nov 2023   Prob (F-statistic):           9.12e-06\n",
       "Time:                        21:12:09   Log-Likelihood:                -7.2153\n",
       "No. Observations:                  20   AIC:                             22.43\n",
       "Df Residuals:                      16   BIC:                             26.41\n",
       "Df Model:                           3                                         \n",
       "Covariance Type:            nonrobust                                         \n",
       "==============================================================================\n",
       "                 coef    std err          t      P>|t|      [0.025      0.975]\n",
       "------------------------------------------------------------------------------\n",
       "const         -0.0105      0.291     -0.036      0.972      -0.627       0.606\n",
       "x             10.1247      2.586      3.915      0.001       4.642      15.608\n",
       "x2           -31.1394      6.103     -5.103      0.000     -44.076     -18.203\n",
       "x3            21.1321      4.007      5.274      0.000      12.638      29.626\n",
       "==============================================================================\n",
       "Omnibus:                        0.301   Durbin-Watson:                   2.750\n",
       "Prob(Omnibus):                  0.860   Jarque-Bera (JB):                0.470\n",
       "Skew:                           0.142   Prob(JB):                        0.790\n",
       "Kurtosis:                       2.305   Cond. No.                         109.\n",
       "==============================================================================\n",
       "\n",
       "Notes:\n",
       "[1] Standard Errors assume that the covariance matrix of the errors is correctly specified.\n",
       "\"\"\""
      ]
     },
     "execution_count": 13,
     "metadata": {},
     "output_type": "execute_result"
    }
   ],
   "source": [
    "Poly = ['x','x2','x3']\n",
    "X = data[Poly]\n",
    "X = sm.add_constant(X) \n",
    "model = sm.OLS(y, X).fit()\n",
    "model.summary()"
   ]
  },
  {
   "cell_type": "markdown",
   "metadata": {},
   "source": [
    "We will now put all the previous talk into a function. In other words we will create our own function rather than using the stasmodels/scikit learn ones. \n",
    "\n",
    "The inputs of the function will be $X$, $y$ and the names of the predictors. The output will be a data frame with the results (MLE's, se's and 95\\% CI's).\n",
    "\n",
    "Write this function  below."
   ]
  },
  {
   "cell_type": "code",
   "execution_count": 15,
   "metadata": {},
   "outputs": [
    {
     "data": {
      "text/html": [
       "<div>\n",
       "<style scoped>\n",
       "    .dataframe tbody tr th:only-of-type {\n",
       "        vertical-align: middle;\n",
       "    }\n",
       "\n",
       "    .dataframe tbody tr th {\n",
       "        vertical-align: top;\n",
       "    }\n",
       "\n",
       "    .dataframe thead th {\n",
       "        text-align: right;\n",
       "    }\n",
       "</style>\n",
       "<table border=\"1\" class=\"dataframe\">\n",
       "  <thead>\n",
       "    <tr style=\"text-align: right;\">\n",
       "      <th></th>\n",
       "      <th>coefficient</th>\n",
       "      <th>se</th>\n",
       "      <th>lower 95% bound</th>\n",
       "      <th>upper 95% bound</th>\n",
       "    </tr>\n",
       "  </thead>\n",
       "  <tbody>\n",
       "    <tr>\n",
       "      <th>intercept</th>\n",
       "      <td>-0.010460</td>\n",
       "      <td>0.290987</td>\n",
       "      <td>-0.627324</td>\n",
       "      <td>0.606404</td>\n",
       "    </tr>\n",
       "    <tr>\n",
       "      <th>x</th>\n",
       "      <td>10.124663</td>\n",
       "      <td>2.586393</td>\n",
       "      <td>4.641755</td>\n",
       "      <td>15.607572</td>\n",
       "    </tr>\n",
       "    <tr>\n",
       "      <th>x2</th>\n",
       "      <td>-31.139397</td>\n",
       "      <td>6.102501</td>\n",
       "      <td>-44.076122</td>\n",
       "      <td>-18.202672</td>\n",
       "    </tr>\n",
       "    <tr>\n",
       "      <th>x3</th>\n",
       "      <td>21.132068</td>\n",
       "      <td>4.006810</td>\n",
       "      <td>12.638011</td>\n",
       "      <td>29.626125</td>\n",
       "    </tr>\n",
       "  </tbody>\n",
       "</table>\n",
       "</div>"
      ],
      "text/plain": [
       "           coefficient        se  lower 95% bound  upper 95% bound\n",
       "intercept    -0.010460  0.290987        -0.627324         0.606404\n",
       "x            10.124663  2.586393         4.641755        15.607572\n",
       "x2          -31.139397  6.102501       -44.076122       -18.202672\n",
       "x3           21.132068  4.006810        12.638011        29.626125"
      ]
     },
     "execution_count": 15,
     "metadata": {},
     "output_type": "execute_result"
    }
   ],
   "source": [
    "def MLE(X, y, pred):\n",
    "\n",
    "    XtX_inv = sc.linalg.inv(X.T @ X)\n",
    "    beta = XtX_inv.dot(X.T.dot(y))\n",
    "\n",
    "    e = y - X.dot(beta)\n",
    "    n, p = X.shape\n",
    "\n",
    "    var_data = (e.T @ e) / (n-p)\n",
    "    var_beta = var_data * XtX_inv\n",
    "    std_beta = np.diag(var_beta)**0.5\n",
    "\n",
    "    t_val = sc.stats.t.ppf(0.975,n-p)\n",
    "    lower_95 = beta - t_val * std_beta\n",
    "    upper_95 = beta + t_val * std_beta\n",
    "\n",
    "    results = np.column_stack([beta,std_beta,lower_95,upper_95])\n",
    "    col = ['coefficient','se','lower 95% bound','upper 95% bound']\n",
    "    ind = ['intercept', pred[1]]\n",
    "    npower = len(pred)-1\n",
    "    ind.extend([pred[1]+'%d'%i for i in range(2,npower+1)])\n",
    "    results = pd.DataFrame(results,columns = col,index=ind)\n",
    "    \n",
    "    return results\n",
    "\n",
    "pred = ['x0','x','x2','x3']\n",
    "X = data[pred]\n",
    "y = data['y']\n",
    "result = MLE(X, y, pred)\n",
    "result\n"
   ]
  },
  {
   "cell_type": "markdown",
   "metadata": {},
   "source": [
    "### Bayesian Linear Regression\n",
    "\n",
    "We now turn to Bayesian inference. As before we will illustrate and then create a function that provides summaries of the posterior (Bayes estimates of $\\beta$ and 95\\% Credible Intervals).\n",
    "\n",
    "We start by calculating the posterior parameters that correspond to the unit information prior.\n",
    "\n",
    "Given $\\sigma^2$ and a **prior** of N($\\mu_0,\\sigma^2\\Omega_0)$, the **posterior** $\\pi(\\beta|X,y,\\sigma^2)$ is N($\\mu_n,\\sigma^2\\Omega_n^2$) where\n",
    "\n",
    "$$\\mu_n = (X^T X+\\Omega_0^{-1})^{-1} (\\Omega_0^{-1}\\mu_0 +X^{T}y)$$\n",
    "$$\\Omega_n =(X^T X +\\Omega_0^{-1})^{-1}$$\n",
    "\n",
    "To assign the unit information prior we set $\\Omega_0 = n(X^T X)^{-1}$ or else $\\Omega_0^{-1}=X^T X / n$.\n",
    "\n",
    "For $\\sigma^2$ if we set the **prior** IGamma $(a_0,b_0)$ we get the **posterior** IGamma $(a_n,b_n)$ where\n",
    "$$\n",
    "a_n = a_0+\\frac{n}{2}\n",
    "$$\n",
    "$$\n",
    "b_n = b_0+\\frac{1}{2} (y^T y + \\mu_0^T\\Omega_0^{-1}\\mu_0 +\\mu_n^T\\Omega_n^{-1}\\mu_n).\n",
    "$$"
   ]
  },
  {
   "cell_type": "markdown",
   "metadata": {},
   "source": [
    "Calculate posterior parameters in the following cell"
   ]
  },
  {
   "cell_type": "code",
   "execution_count": 16,
   "metadata": {},
   "outputs": [
    {
     "name": "stdout",
     "output_type": "stream",
     "text": [
      "mu_n: [ 0.84301439 -2.1263052   0.53209947] \n",
      "Omega_n: [[ 0.35312307 -1.37476809  1.11626469]\n",
      " [-1.37476809  7.58668316 -7.06967636]\n",
      " [ 1.11626469 -7.06967636  7.06967636]] \n",
      "a_n: 10.01 \n",
      "b_n: 8.420037312650457\n"
     ]
    }
   ],
   "source": [
    "def get_post_param(X, y):\n",
    "\n",
    "    n, p = X.shape\n",
    "    XtX = X.T.dot(X)\n",
    "\n",
    "    a_0 = 0.01\n",
    "    b_0 = 0.01\n",
    "\n",
    "    Omega_0_inv = XtX / n\n",
    "    Omega_0 = n * np.linalg.inv(XtX)\n",
    "\n",
    "    Omega_n_inv = (XtX + Omega_0_inv)\n",
    "    Omega_n = np.linalg.inv(Omega_n_inv)\n",
    "\n",
    "    mu_0 = np.zeros(p)\n",
    "    mu_n = Omega_n.dot(Omega_0_inv.dot(mu_0) + X.T.dot(y))\n",
    "\n",
    "    a_n = a_0 + n/2\n",
    "    b_n = b_0 + 1/2 * (y.T.dot(y) + mu_0.T.dot(Omega_0_inv).dot(mu_0) + mu_n.T.dot(Omega_n_inv).dot(mu_n))\n",
    "\n",
    "    return mu_n, Omega_n, a_n, b_n\n",
    "\n",
    "pred = ['x0','x','x2']\n",
    "X = data[pred]\n",
    "mu_n, Omega_n, a_n, b_n = get_post_param(X, y)\n",
    "print('mu_n:', mu_n, '\\nOmega_n:', Omega_n, '\\na_n:', a_n, '\\nb_n:', b_n)"
   ]
  },
  {
   "cell_type": "markdown",
   "metadata": {},
   "source": [
    "#### Monte Carlo for credible intervals\n",
    "\n",
    "To obtain credible intervals for $\\beta$ we could use the $t$ distribution. But we would use Monte Carlo instead as this will cover more general models. e.g. logistic regression.\n",
    "\n",
    "So we will sample $N$ Monte Carlo samples from $\\pi(\\beta|y)$ and use them  for Monte Carlo inference (credible intervals, density plots etc)\n",
    "\n",
    "Monte Carlo Samples can be drawn by\n",
    "\n",
    "1. Generating samples $\\sigma_i^2$ from IGamma $(\\alpha_n,\\beta_n)$, $i=1,\\dots,N$,\n",
    "2. Draw $\\beta_i$ sample based on each $\\sigma_i^2$ from N($\\mu_n,\\sigma^2\\Omega_n^2$)"
   ]
  },
  {
   "cell_type": "code",
   "execution_count": 17,
   "metadata": {},
   "outputs": [
    {
     "ename": "NameError",
     "evalue": "name 'Om_n' is not defined",
     "output_type": "error",
     "traceback": [
      "\u001b[1;31m---------------------------------------------------------------------------\u001b[0m",
      "\u001b[1;31mNameError\u001b[0m                                 Traceback (most recent call last)",
      "\u001b[1;32mc:\\Users\\erikn\\skola\\SSY316-Advanced-Probabilistic-Machine-Learning\\python-lab-1\\Pyhton lab 1.ipynb Cell 26\u001b[0m line \u001b[0;36m9\n\u001b[0;32m      <a href='vscode-notebook-cell:/c%3A/Users/erikn/skola/SSY316-Advanced-Probabilistic-Machine-Learning/python-lab-1/Pyhton%20lab%201.ipynb#X34sZmlsZQ%3D%3D?line=6'>7</a>\u001b[0m \u001b[39mfor\u001b[39;00m i \u001b[39min\u001b[39;00m \u001b[39mrange\u001b[39m(\u001b[39m0\u001b[39m,N):\n\u001b[0;32m      <a href='vscode-notebook-cell:/c%3A/Users/erikn/skola/SSY316-Advanced-Probabilistic-Machine-Learning/python-lab-1/Pyhton%20lab%201.ipynb#X34sZmlsZQ%3D%3D?line=7'>8</a>\u001b[0m     s2 \u001b[39m=\u001b[39msigma2[i]\n\u001b[1;32m----> <a href='vscode-notebook-cell:/c%3A/Users/erikn/skola/SSY316-Advanced-Probabilistic-Machine-Learning/python-lab-1/Pyhton%20lab%201.ipynb#X34sZmlsZQ%3D%3D?line=8'>9</a>\u001b[0m     cov \u001b[39m=\u001b[39m s2\u001b[39m*\u001b[39mOm_n\n\u001b[0;32m     <a href='vscode-notebook-cell:/c%3A/Users/erikn/skola/SSY316-Advanced-Probabilistic-Machine-Learning/python-lab-1/Pyhton%20lab%201.ipynb#X34sZmlsZQ%3D%3D?line=9'>10</a>\u001b[0m     betas[i,] \u001b[39m=\u001b[39m np\u001b[39m.\u001b[39mrandom\u001b[39m.\u001b[39mmultivariate_normal(mu_n,cov,\u001b[39m1\u001b[39m)\n\u001b[0;32m     <a href='vscode-notebook-cell:/c%3A/Users/erikn/skola/SSY316-Advanced-Probabilistic-Machine-Learning/python-lab-1/Pyhton%20lab%201.ipynb#X34sZmlsZQ%3D%3D?line=11'>12</a>\u001b[0m \u001b[39m#find the mean of each column which corresponds to each beta coefficient     \u001b[39;00m\n",
      "\u001b[1;31mNameError\u001b[0m: name 'Om_n' is not defined"
     ]
    }
   ],
   "source": [
    "#Calculate 95% credible intervals\n",
    "N = 10000 #number of Monte Carlo samples\n",
    "sigma2 = 1/np.random.gamma(a_n, 1/b_n, N)\n",
    "betas = np.zeros((N,p))\n",
    "\n",
    "# draw N samples from the marginal posterior of beta\n",
    "for i in range(0,N):\n",
    "    s2 =sigma2[i]\n",
    "    cov = s2*Om_n\n",
    "    betas[i,] = np.random.multivariate_normal(mu_n,cov,1)\n",
    "\n",
    "#find the mean of each column which corresponds to each beta coefficient     \n",
    "mu_beta = np.mean(betas, axis=0)\n",
    "\n",
    "#find the 2.5 and 97.5 percentils which correspond to each beta coefficient \n",
    "lower95 = np.percentile(betas,2.5,axis=0)\n",
    "upper95 = np.percentile(betas,97.5,axis=0)\n",
    "mu_beta, lower95, upper95"
   ]
  },
  {
   "cell_type": "markdown",
   "metadata": {},
   "source": [
    "As before we put it all in a function. This is quite handy as it is hard to find such a function in Python!!"
   ]
  },
  {
   "cell_type": "code",
   "execution_count": 18,
   "metadata": {},
   "outputs": [],
   "source": [
    "# function for Bayesian Linear regression, return posterior mean and 95% CIs\n",
    "def BLR(X,y,mu_0,Om_0_inv,a_0,b_0,ind_names,N):\n",
    "\n",
    "    col_names = ['posterior mean','lower 95% bound','upper 95% bound']\n",
    "    \n",
    "    n,p = X.shape\n",
    "    XtX = X.T.dot(X)\n",
    "    \n",
    "    Om_n_inv = XtX + Om_0_inv\n",
    "    Om_n = sc.linalg.inv(Om_n_inv)\n",
    "\n",
    "    term1 = Om_0_inv.dot(mu_0)+X.T.dot(y)\n",
    "    mu_n = Om_n.dot(term1)\n",
    "\n",
    "    a_n = a_0 + n/2\n",
    "\n",
    "    term2 = y.T.dot(y)+mu_0.dot(Om_0_inv.dot(mu_0))-mu_n.T.dot(Om_n_inv.dot(mu_n))\n",
    "    b_n = b_0 + term2/2\n",
    "\n",
    "    sigma2 = 1/np.random.gamma(a_n, 1/b_n, N)\n",
    "    betas = np.zeros((N,p))\n",
    "\n",
    "    # draw N samples from the marginal posterior of beta\n",
    "    for i in range(0,N):\n",
    "        s2 = sigma2[i]\n",
    "        cov = s2*Om_n\n",
    "        betas[i,] = np.random.multivariate_normal(mu_n,cov,1)\n",
    "\n",
    "    #find the mean of each column which corresponds to each beta coefficient     \n",
    "    mu_beta = np.mean(betas, axis=0)\n",
    "    #find the 2.5 and 97.5 percentils which correspond to each beta coefficient \n",
    "    lower95 = np.percentile(betas,2.5,axis=0)\n",
    "    upper95 = np.percentile(betas,97.5,axis=0)\n",
    "    results = np.column_stack([mu_beta,lower95,upper95])\n",
    "    results = pd.DataFrame(results,columns = col_names,index=ind_names)\n",
    "\n",
    "    return results, mu_n, Om_n, a_n, b_n"
   ]
  },
  {
   "cell_type": "markdown",
   "metadata": {},
   "source": [
    "### Marginal likelihood / Model Evidence\n",
    "\n",
    "Finally we will calculate the marginal likelihood / model evidence of a given model. We will use the following trick covered in the lecture\n",
    "\n",
    "We can write\n",
    "$$\n",
    "\\pi(\\beta,\\sigma^2|y,X)=\\frac{\\pi(y|\\beta,\\sigma^2,X)\\pi(\\beta,\\sigma^2)}{\\pi(y|X)},\n",
    "$$\n",
    "or else\n",
    "$$\n",
    "\\pi(y|X)=\\frac{\\pi(y|\\beta,\\sigma^2,X)\\pi(\\beta,\\sigma^2)}{\\pi(\\beta,\\sigma^2|y,X)},\n",
    "$$\n",
    "for all $\\beta, \\sigma^2$.\n",
    "\n",
    "The expression above contains known Normal and Inverse Gamma pdfs so we can just evaluate for -say- the posterior mean of $\\beta$, $\\sigma^2$.\n",
    "\n",
    "The calculation involves the following steps\n",
    "\n",
    "1. Specify data and prior\n",
    "2. get the parameters of the posteriod distribution\n",
    "3. evaluate the log-likelihood, log-prior and log-posterior at the posterior mean\n",
    "4. The log-evidence is equal to log-likelihood + log-prior - log-posterior"
   ]
  },
  {
   "cell_type": "code",
   "execution_count": 19,
   "metadata": {},
   "outputs": [
    {
     "data": {
      "text/plain": [
       "-18.212515913838086"
      ]
     },
     "execution_count": 19,
     "metadata": {},
     "output_type": "execute_result"
    }
   ],
   "source": [
    "# Step 1\n",
    "npower = 3\n",
    "predictors = ['x0','x']\n",
    "predictors.extend(['x%d'%i for i in range(2,npower+1)])\n",
    "X = data[predictors]\n",
    "y = data['y']\n",
    "n,p = X.shape\n",
    "\n",
    "# Step 2\n",
    "mu_0 = np.zeros(p)\n",
    "XtX = X.T.dot(X)\n",
    "Om_0_inv = XtX/n #unit information prior\n",
    "a_0 = 0.1\n",
    "b_0 = 0.1\n",
    "N=10000 #Monte Carlo sample size\n",
    "results, mu_n, Om_n, a_n, b_n = BLR(X,y,mu_0,Om_0_inv,a_0,b_0,predictors,N)\n",
    "\n",
    "# Step 3\n",
    "# evaluate log-likelihood\n",
    "beta = mu_n\n",
    "sigma2 = b_n/(a_n-1)\n",
    "Om_0 = sc.linalg.inv(Om_0_inv)\n",
    "mu = X.dot(beta)\n",
    "cov = sigma2*np.eye(n)\n",
    "ll = sc.stats.multivariate_normal.logpdf(y,mu,cov)\n",
    "# evaluate log-prior\n",
    "lprior = a_0*np.log(b_0) - sc.special.loggamma(a_0) - (a_0+1)*np.log(sigma2) - b_0/sigma2 # typo? -(a-1)?\n",
    "lprior = lprior + sc.stats.multivariate_normal.logpdf(beta,mu_0,sigma2*Om_0)\n",
    "# evaluate log-posterior\n",
    "lpost = a_n*np.log(b_n) - sc.special.loggamma(a_n) - (a_n+1)*np.log(sigma2) - b_n/sigma2\n",
    "lpost = lpost + sc.stats.multivariate_normal.logpdf(beta,mu_n,sigma2*Om_n)\n",
    "\n",
    "lmodevid = ll+lprior-lpost\n",
    "lmodevid"
   ]
  },
  {
   "cell_type": "markdown",
   "metadata": {},
   "source": [
    "Let's make it a function. Again not easy to find such a function, keep it!"
   ]
  },
  {
   "cell_type": "code",
   "execution_count": 20,
   "metadata": {},
   "outputs": [],
   "source": [
    "def ModEvidence(X,y,mu_n,Om_n,mu_0,Om_0_inv,a_n,b_n,a_0,b_0): \n",
    "\n",
    "    beta = mu_n\n",
    "    sigma2 = b_n/(a_n-1)\n",
    "\n",
    "    Om_0 = sc.linalg.inv(Om_0_inv)\n",
    "    mu = X.dot(beta)\n",
    "    \n",
    "    cov = sigma2*np.eye(X.shape[0])\n",
    "    ll = sc.stats.multivariate_normal.logpdf(y,mu,cov)\n",
    "\n",
    "    # evaluate log-prior\n",
    "    lprior = a_0*np.log(b_0) - sc.special.loggamma(a_0) - (a_0+1)*np.log(sigma2) - b_0/sigma2\n",
    "    lprior = lprior + sc.stats.multivariate_normal.logpdf(beta,mu_0,sigma2*Om_0)\n",
    "\n",
    "    # evaluate log-posterior\n",
    "    lpost = a_n*np.log(b_n) - sc.special.loggamma(a_n) - (a_n+1)*np.log(sigma2) - b_n/sigma2\n",
    "    lpost = lpost +sc.stats.multivariate_normal.logpdf(beta,mu_n,sigma2*Om_n)\n",
    "    lmodevid = ll+lprior-lpost\n",
    "\n",
    "    return lmodevid"
   ]
  },
  {
   "cell_type": "markdown",
   "metadata": {},
   "source": [
    "Now to get the evidence for a model we can simply use the code below"
   ]
  },
  {
   "cell_type": "code",
   "execution_count": 21,
   "metadata": {},
   "outputs": [
    {
     "data": {
      "text/plain": [
       "-25.122117003562536"
      ]
     },
     "execution_count": 21,
     "metadata": {},
     "output_type": "execute_result"
    }
   ],
   "source": [
    "# Data\n",
    "npower = 2\n",
    "predictors = ['x0','x']\n",
    "predictors.extend(['x%d'%i for i in range(2,npower+1)])\n",
    "X = data[predictors]\n",
    "y = data['y']\n",
    "n,p = X.shape\n",
    "\n",
    "# Prior\n",
    "mu_0 = np.zeros(p)\n",
    "XtX = X.T.dot(X)\n",
    "Om_0_inv = XtX/n #unit information prior\n",
    "a_0 = 0.1\n",
    "b_0 = 0.1\n",
    "\n",
    "# Calculation\n",
    "N=10000 #Monte Carlo sample size\n",
    "results, mu_n, Om_n, a_n, b_n = BLR(X,y,mu_0,Om_0_inv,a_0,b_0,predictors,N)\n",
    "lmodevid = ModEvidence(X,y,mu_n,Om_n,mu_0,Om_0_inv,a_n,b_n,a_0,b_0)\n",
    "lmodevid"
   ]
  },
  {
   "cell_type": "markdown",
   "metadata": {},
   "source": [
    "Consider polynomials from order 2 to 6. Find the order of polynomial with the highest model evidence."
   ]
  },
  {
   "cell_type": "code",
   "execution_count": 22,
   "metadata": {},
   "outputs": [
    {
     "name": "stdout",
     "output_type": "stream",
     "text": [
      "Polynomial: 2 -25.122117003562536\n",
      "Polynomial: 3 -18.212515913838086\n",
      "Polynomial: 4 -18.93575902878517\n",
      "Polynomial: 5 -19.24634385232043\n",
      "Polynomial: 6 -20.42774020969665\n"
     ]
    }
   ],
   "source": [
    "for npower in range (2, 7):\n",
    "\n",
    "    # Data\n",
    "    predictors = ['x0','x']\n",
    "    predictors.extend(['x%d'%i for i in range(2,npower+1)])\n",
    "    X = data[predictors]\n",
    "    y = data['y']\n",
    "    n,p = X.shape\n",
    "\n",
    "    # Prior\n",
    "    mu_0 = np.zeros(p)\n",
    "    XtX = X.T.dot(X)\n",
    "    Om_0_inv = XtX/n #unit information prior\n",
    "    a_0 = 0.1\n",
    "    b_0 = 0.1\n",
    "\n",
    "    # Calculation\n",
    "    N=10000 #Monte Carlo sample size\n",
    "    results, mu_n, Om_n, a_n, b_n = BLR(X,y,mu_0,Om_0_inv,a_0,b_0,predictors,N)\n",
    "    lmodevid = ModEvidence(X,y,mu_n,Om_n,mu_0,Om_0_inv,a_n,b_n,a_0,b_0)\n",
    "    print('Polynomial:', npower, lmodevid)"
   ]
  },
  {
   "cell_type": "markdown",
   "metadata": {},
   "source": [
    "### Autmobile Bodily Injury Claims Data\n",
    "\n",
    "Source: Insurance Research Council (IRC)\n",
    "\n",
    "The data are automobile injury claims data using data from the Insurance Research Council (IRC), a division of the American Institute for Chartered Property Casualty Underwriters and the Insurance Institute of America. The data, collected in 2002, contains information on the gender of the claimant, attorney involvement, years of driving experience and the economic loss (LOSS, in thousands). A detailed description of the variables in the data is provided below:\n",
    "\n",
    "- Attorney: Whether the claimant is represented by an attorney (=1 if yes and =0 if no)\n",
    "- CLMSEX: Claimant’s gender (=1 if male and =0 if female \n",
    "- CLMAGE: Claimant’s age minus the age driving license was obtained\n",
    "- LOSS: The claimant’s total economic loss (in thousands $)\n",
    "\n",
    "For confidentiality issues we consider here a sample of  simulated data similar to that of a state is considered. \n",
    "\n",
    "The data are in the provided file 'automobileBI.csv'"
   ]
  },
  {
   "cell_type": "code",
   "execution_count": 23,
   "metadata": {},
   "outputs": [
    {
     "data": {
      "text/html": [
       "<div>\n",
       "<style scoped>\n",
       "    .dataframe tbody tr th:only-of-type {\n",
       "        vertical-align: middle;\n",
       "    }\n",
       "\n",
       "    .dataframe tbody tr th {\n",
       "        vertical-align: top;\n",
       "    }\n",
       "\n",
       "    .dataframe thead th {\n",
       "        text-align: right;\n",
       "    }\n",
       "</style>\n",
       "<table border=\"1\" class=\"dataframe\">\n",
       "  <thead>\n",
       "    <tr style=\"text-align: right;\">\n",
       "      <th></th>\n",
       "      <th>INTERCEPT</th>\n",
       "      <th>ATTORNEY</th>\n",
       "      <th>CLMSEX</th>\n",
       "      <th>CLMAGE</th>\n",
       "      <th>LOSS</th>\n",
       "    </tr>\n",
       "  </thead>\n",
       "  <tbody>\n",
       "    <tr>\n",
       "      <th>0</th>\n",
       "      <td>1.0</td>\n",
       "      <td>1</td>\n",
       "      <td>0</td>\n",
       "      <td>1.8</td>\n",
       "      <td>6.38</td>\n",
       "    </tr>\n",
       "    <tr>\n",
       "      <th>1</th>\n",
       "      <td>1.0</td>\n",
       "      <td>0</td>\n",
       "      <td>0</td>\n",
       "      <td>5.6</td>\n",
       "      <td>0.95</td>\n",
       "    </tr>\n",
       "    <tr>\n",
       "      <th>2</th>\n",
       "      <td>1.0</td>\n",
       "      <td>1</td>\n",
       "      <td>1</td>\n",
       "      <td>1.4</td>\n",
       "      <td>1.88</td>\n",
       "    </tr>\n",
       "    <tr>\n",
       "      <th>3</th>\n",
       "      <td>1.0</td>\n",
       "      <td>0</td>\n",
       "      <td>1</td>\n",
       "      <td>5.4</td>\n",
       "      <td>0.11</td>\n",
       "    </tr>\n",
       "    <tr>\n",
       "      <th>4</th>\n",
       "      <td>1.0</td>\n",
       "      <td>1</td>\n",
       "      <td>0</td>\n",
       "      <td>0.9</td>\n",
       "      <td>6.95</td>\n",
       "    </tr>\n",
       "  </tbody>\n",
       "</table>\n",
       "</div>"
      ],
      "text/plain": [
       "   INTERCEPT  ATTORNEY  CLMSEX  CLMAGE  LOSS\n",
       "0        1.0         1       0     1.8  6.38\n",
       "1        1.0         0       0     5.6  0.95\n",
       "2        1.0         1       1     1.4  1.88\n",
       "3        1.0         0       1     5.4  0.11\n",
       "4        1.0         1       0     0.9  6.95"
      ]
     },
     "execution_count": 23,
     "metadata": {},
     "output_type": "execute_result"
    }
   ],
   "source": [
    "Auto = pd.read_csv(\"automobileBI.csv\")\n",
    "intercept = np.ones(Auto.shape[0])\n",
    "Auto.insert(0, 'INTERCEPT', intercept)\n",
    "Auto.head()"
   ]
  },
  {
   "cell_type": "code",
   "execution_count": 24,
   "metadata": {},
   "outputs": [
    {
     "data": {
      "text/html": [
       "<div>\n",
       "<style scoped>\n",
       "    .dataframe tbody tr th:only-of-type {\n",
       "        vertical-align: middle;\n",
       "    }\n",
       "\n",
       "    .dataframe tbody tr th {\n",
       "        vertical-align: top;\n",
       "    }\n",
       "\n",
       "    .dataframe thead th {\n",
       "        text-align: right;\n",
       "    }\n",
       "</style>\n",
       "<table border=\"1\" class=\"dataframe\">\n",
       "  <thead>\n",
       "    <tr style=\"text-align: right;\">\n",
       "      <th></th>\n",
       "      <th>INTERCEPT</th>\n",
       "      <th>ATTORNEY</th>\n",
       "      <th>CLMSEX</th>\n",
       "      <th>CLMAGE</th>\n",
       "      <th>LOSS</th>\n",
       "    </tr>\n",
       "  </thead>\n",
       "  <tbody>\n",
       "    <tr>\n",
       "      <th>count</th>\n",
       "      <td>1296.0</td>\n",
       "      <td>1296.000000</td>\n",
       "      <td>1296.000000</td>\n",
       "      <td>1296.000000</td>\n",
       "      <td>1296.000000</td>\n",
       "    </tr>\n",
       "    <tr>\n",
       "      <th>mean</th>\n",
       "      <td>1.0</td>\n",
       "      <td>0.510802</td>\n",
       "      <td>0.423611</td>\n",
       "      <td>4.885571</td>\n",
       "      <td>4.616821</td>\n",
       "    </tr>\n",
       "    <tr>\n",
       "      <th>std</th>\n",
       "      <td>0.0</td>\n",
       "      <td>0.500076</td>\n",
       "      <td>0.494321</td>\n",
       "      <td>4.586972</td>\n",
       "      <td>7.570060</td>\n",
       "    </tr>\n",
       "    <tr>\n",
       "      <th>min</th>\n",
       "      <td>1.0</td>\n",
       "      <td>0.000000</td>\n",
       "      <td>0.000000</td>\n",
       "      <td>0.100000</td>\n",
       "      <td>0.010000</td>\n",
       "    </tr>\n",
       "    <tr>\n",
       "      <th>25%</th>\n",
       "      <td>1.0</td>\n",
       "      <td>0.000000</td>\n",
       "      <td>0.000000</td>\n",
       "      <td>1.700000</td>\n",
       "      <td>0.637500</td>\n",
       "    </tr>\n",
       "    <tr>\n",
       "      <th>50%</th>\n",
       "      <td>1.0</td>\n",
       "      <td>1.000000</td>\n",
       "      <td>0.000000</td>\n",
       "      <td>3.300000</td>\n",
       "      <td>2.000000</td>\n",
       "    </tr>\n",
       "    <tr>\n",
       "      <th>75%</th>\n",
       "      <td>1.0</td>\n",
       "      <td>1.000000</td>\n",
       "      <td>1.000000</td>\n",
       "      <td>6.600000</td>\n",
       "      <td>5.227500</td>\n",
       "    </tr>\n",
       "    <tr>\n",
       "      <th>max</th>\n",
       "      <td>1.0</td>\n",
       "      <td>1.000000</td>\n",
       "      <td>1.000000</td>\n",
       "      <td>31.300000</td>\n",
       "      <td>76.170000</td>\n",
       "    </tr>\n",
       "  </tbody>\n",
       "</table>\n",
       "</div>"
      ],
      "text/plain": [
       "       INTERCEPT     ATTORNEY       CLMSEX       CLMAGE         LOSS\n",
       "count     1296.0  1296.000000  1296.000000  1296.000000  1296.000000\n",
       "mean         1.0     0.510802     0.423611     4.885571     4.616821\n",
       "std          0.0     0.500076     0.494321     4.586972     7.570060\n",
       "min          1.0     0.000000     0.000000     0.100000     0.010000\n",
       "25%          1.0     0.000000     0.000000     1.700000     0.637500\n",
       "50%          1.0     1.000000     0.000000     3.300000     2.000000\n",
       "75%          1.0     1.000000     1.000000     6.600000     5.227500\n",
       "max          1.0     1.000000     1.000000    31.300000    76.170000"
      ]
     },
     "execution_count": 24,
     "metadata": {},
     "output_type": "execute_result"
    }
   ],
   "source": [
    "Auto.describe()"
   ]
  },
  {
   "cell_type": "code",
   "execution_count": 26,
   "metadata": {},
   "outputs": [
    {
     "data": {
      "text/plain": [
       "<seaborn.axisgrid.PairGrid at 0x1acd86c17b0>"
      ]
     },
     "execution_count": 26,
     "metadata": {},
     "output_type": "execute_result"
    },
    {
     "data": {
      "image/png": "[encoded data removed]",
      "text/plain": [
       "<Figure size 1250x1250 with 30 Axes>"
      ]
     },
     "metadata": {},
     "output_type": "display_data"
    }
   ],
   "source": [
    "sns.pairplot(Auto)"
   ]
  },
  {
   "cell_type": "markdown",
   "metadata": {},
   "source": [
    "Consider all possible regression models with the LOSS variable as response and some (or all or none) of the other variables present (in their current form, no polynomials). There are 8 such models.\n",
    "\n",
    "Calculate the model evidence for each of them, report the optimal one and present posterior estimates of its coefficients."
   ]
  },
  {
   "cell_type": "code",
   "execution_count": 25,
   "metadata": {},
   "outputs": [
    {
     "name": "stdout",
     "output_type": "stream",
     "text": [
      "['INTERCEPT'] \n",
      "mu_n: [4.61326137] \n",
      "Om_n: [[0.00077101]] \n",
      "a_n: 648.1 \n",
      "b_n: 37116.25855219738 \n",
      "lmodevid: -4470.785914944492 \n",
      "\n",
      "\n",
      "['INTERCEPT', 'ATTORNEY'] \n",
      "mu_n: [2.58935851 3.96220259] \n",
      "Om_n: [[ 0.00157607 -0.00157607]\n",
      " [-0.00157607  0.00308548]] \n",
      "a_n: 648.1 \n",
      "b_n: 34572.23820661568 \n",
      "lmodevid: -4428.352053578861 \n",
      "\n",
      "\n",
      "['INTERCEPT', 'CLMSEX'] \n",
      "mu_n: [ 4.7255104  -0.26498131] \n",
      "Om_n: [[ 0.00133766 -0.00133766]\n",
      " [-0.00133766  0.00315775]] \n",
      "a_n: 648.1 \n",
      "b_n: 37105.14063570628 \n",
      "lmodevid: -4474.175656618392 \n",
      "\n",
      "\n",
      "['INTERCEPT', 'CLMAGE'] \n",
      "mu_n: [ 4.85345889 -0.04916468] \n",
      "Om_n: [[ 1.64634403e-03 -1.79167185e-04]\n",
      " [-1.79167185e-04  3.66727217e-05]] \n",
      "a_n: 648.1 \n",
      "b_n: 37083.302646744036 \n",
      "lmodevid: -4473.794109292987 \n",
      "\n",
      "\n",
      "['INTERCEPT', 'ATTORNEY', 'CLMSEX'] \n",
      "mu_n: [ 2.88589959  4.07771299 -0.83931717] \n",
      "Om_n: [[ 0.00197804 -0.00141949 -0.00113772]\n",
      " [-0.00141949  0.00314647 -0.00044317]\n",
      " [-0.00113772 -0.00044317  0.00322016]] \n",
      "a_n: 648.1 \n",
      "b_n: 34462.85665166981 \n",
      "lmodevid: -4429.882213036676 \n",
      "\n",
      "\n",
      "['INTERCEPT', 'ATTORNEY', 'CLMAGE'] \n",
      "mu_n: [ 2.70853548  3.94937891 -0.02305291] \n",
      "Om_n: [[ 2.55980284e-03 -1.68192252e-03 -1.90287409e-04]\n",
      " [-1.68192252e-03  3.09687016e-03  2.04753128e-05]\n",
      " [-1.90287409e-04  2.04753128e-05  3.68080966e-05]] \n",
      "a_n: 648.1 \n",
      "b_n: 34565.01919122979 \n",
      "lmodevid: -4431.80061453534 \n",
      "\n",
      "\n",
      "['INTERCEPT', 'CLMSEX', 'CLMAGE'] \n",
      "mu_n: [ 4.98312787 -0.28832495 -0.05070622] \n",
      "Om_n: [[ 2.28660208e-03 -1.42364337e-03 -1.86778763e-04]\n",
      " [-1.42364337e-03  3.16553681e-03  1.69246955e-05]\n",
      " [-1.86778763e-04  1.69246955e-05  3.67632104e-05]] \n",
      "a_n: 648.1 \n",
      "b_n: 37070.17197024215 \n",
      "lmodevid: -4477.148490142021 \n",
      "\n",
      "\n",
      "['INTERCEPT', 'ATTORNEY', 'CLMSEX', 'CLMAGE'] \n",
      "mu_n: [ 3.02833284  4.0642232  -0.8497721  -0.02683695] \n",
      "Om_n: [[ 3.01665637e-03 -1.51785918e-03 -1.21396057e-03 -1.95693184e-04]\n",
      " [-1.51785918e-03  3.15578790e-03 -4.35952460e-04  1.85340133e-05]\n",
      " [-1.21396057e-03 -4.35952460e-04  3.22576093e-03  1.43643369e-05]\n",
      " [-1.95693184e-04  1.85340133e-05  1.43643369e-05  3.68720611e-05]] \n",
      "a_n: 648.1 \n",
      "b_n: 34453.09015543425 \n",
      "lmodevid: -4433.282425274715 \n",
      "\n",
      "\n"
     ]
    }
   ],
   "source": [
    "pred_list = [\n",
    "    ['INTERCEPT'],\n",
    "    ['INTERCEPT','ATTORNEY'],\n",
    "    ['INTERCEPT','CLMSEX'],\n",
    "    ['INTERCEPT','CLMAGE'],\n",
    "    ['INTERCEPT','ATTORNEY', 'CLMSEX'],\n",
    "    ['INTERCEPT','ATTORNEY', 'CLMAGE'],\n",
    "    ['INTERCEPT','CLMSEX', 'CLMAGE'],\n",
    "    ['INTERCEPT','ATTORNEY', 'CLMSEX', 'CLMAGE'],\n",
    "]\n",
    "\n",
    "for pred in pred_list:\n",
    "    X = Auto[pred]\n",
    "    # X = sm.add_constant(Auto[list(pred)])\n",
    "    y = Auto['LOSS']\n",
    "    n,p = X.shape\n",
    "\n",
    "    # Prior\n",
    "    mu_0 = np.zeros(p)\n",
    "    XtX = X.T.dot(X)\n",
    "    Om_0_inv = XtX/n #unit information prior\n",
    "    a_0 = 0.1\n",
    "    b_0 = 0.1\n",
    "\n",
    "    # Calculation\n",
    "    N=10000 #Monte Carlo sample size\n",
    "    results, mu_n, Om_n, a_n, b_n = BLR(X,y,mu_0,Om_0_inv,a_0,b_0,pred,N)\n",
    "    lmodevid = ModEvidence(X,y,mu_n,Om_n,mu_0,Om_0_inv,a_n,b_n,a_0,b_0)\n",
    "    print(pred, '\\nmu_n:', mu_n, '\\nOm_n:', Om_n, '\\na_n:', a_n, '\\nb_n:', b_n, '\\nlmodevid:', lmodevid, '\\n\\n')\n",
    "    results"
   ]
  }
 ],
 "metadata": {
  "kernelspec": {
   "display_name": "Python 3 (ipykernel)",
   "language": "python",
   "name": "python3"
  },
  "language_info": {
   "codemirror_mode": {
    "name": "ipython",
    "version": 3
   },
   "file_extension": ".py",
   "mimetype": "text/x-python",
   "name": "python",
   "nbconvert_exporter": "python",
   "pygments_lexer": "ipython3",
   "version": "3.10.0"
  }
 },
 "nbformat": 4,
 "nbformat_minor": 4
}
