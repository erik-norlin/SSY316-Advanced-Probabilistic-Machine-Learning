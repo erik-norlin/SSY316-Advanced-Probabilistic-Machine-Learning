{
 "cells": [
  {
   "cell_type": "code",
   "execution_count": 53,
   "metadata": {},
   "outputs": [
    {
     "name": "stdout",
     "output_type": "stream",
     "text": [
      "Number of samples: 9990222 7368\r"
     ]
    },
    {
     "name": "stderr",
     "output_type": "stream",
     "text": [
      "ic| pQ: 0.3379\n"
     ]
    },
    {
     "name": "stdout",
     "output_type": "stream",
     "text": [
      "Number of samples: 10000\r"
     ]
    },
    {
     "data": {
      "text/plain": [
       "0.3379"
      ]
     },
     "execution_count": 53,
     "metadata": {},
     "output_type": "execute_result"
    }
   ],
   "source": [
    "import numpy as np\n",
    "from icecream import ic\n",
    "\n",
    "Z = 0\n",
    "n = 0\n",
    "n_samples = 10000\n",
    "\n",
    "while Z < n_samples:\n",
    "\n",
    "    r = np.random.rand() < 0.25\n",
    "    lam = 10 if r else 7\n",
    "    x = np.random.poisson(lam)\n",
    "    y = np.random.poisson(lam)\n",
    "\n",
    "    if np.isclose(x, 10, atol=0.01) and np.isclose(y, 8, atol=0.01):\n",
    "        if r:\n",
    "            n += 1\n",
    "        Z += 1\n",
    "        print('Number of samples:', Z, end='\\r')\n",
    "\n",
    "pQ = n/Z\n",
    "ic(pQ)"
   ]
  }
 ],
 "metadata": {
  "kernelspec": {
   "display_name": "venv_chalmers",
   "language": "python",
   "name": "python3"
  },
  "language_info": {
   "codemirror_mode": {
    "name": "ipython",
    "version": 3
   },
   "file_extension": ".py",
   "mimetype": "text/x-python",
   "name": "python",
   "nbconvert_exporter": "python",
   "pygments_lexer": "ipython3",
   "version": "3.10.0"
  }
 },
 "nbformat": 4,
 "nbformat_minor": 2
}
