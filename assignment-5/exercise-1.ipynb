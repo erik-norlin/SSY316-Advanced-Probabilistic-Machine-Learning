{
 "cells": [
  {
   "cell_type": "code",
   "execution_count": 2,
   "metadata": {},
   "outputs": [],
   "source": [
    "import numpy as np\n",
    "from scipy.io import loadmat\n",
    "from mpl_toolkits import mplot3d\n",
    "import matplotlib.pyplot as plt\n",
    "import matplotlib.image as mpimg\n",
    "from matplotlib.pyplot import cm\n",
    "import matplotlib as mpl\n",
    "from icecream import ic\n",
    "import sympy as sp\n",
    "import scipy.stats as stats\n",
    "\n",
    "# %matplotlib inline\n",
    "%matplotlib qt\n",
    "%config InlineBackend.figure_format = 'retina'\n",
    "from matplotlib import rc\n",
    "rc('font', **{'family': 'serif', 'serif': ['Computer Modern']})\n",
    "rc('text', usetex=True)"
   ]
  },
  {
   "cell_type": "code",
   "execution_count": 29,
   "metadata": {},
   "outputs": [],
   "source": [
    "def evaluate_gaussian(x, mu, sigma):\n",
    "    p = 1/np.sqrt(2*np.pi*sigma**2)*np.exp(-((x-mu)**2)/(2*sigma**2))\n",
    "    return p"
   ]
  },
  {
   "cell_type": "code",
   "execution_count": 21,
   "metadata": {},
   "outputs": [],
   "source": [
    "def evaluate_johnsons(x):\n",
    "    p = np.sqrt(2)/np.sqrt(np.pi*(1+(x-1)**2))*np.exp(-0.5*(3+2*np.arcsinh(x-1))**2)\n",
    "    return p"
   ]
  },
  {
   "cell_type": "code",
   "execution_count": 57,
   "metadata": {},
   "outputs": [
    {
     "name": "stderr",
     "output_type": "stream",
     "text": [
      "ic| L: 1000, mean: -1.4348461446254575, var: 1.965258125633898\n"
     ]
    },
    {
     "data": {
      "text/plain": [
       "(1000, -1.4348461446254575, 1.965258125633898)"
      ]
     },
     "execution_count": 57,
     "metadata": {},
     "output_type": "execute_result"
    }
   ],
   "source": [
    "path = r'C:\\Users\\erikn\\skola\\SSY316-Advanced-Probabilistic-Machine-Learning\\assignment-5\\report-images'\n",
    "save = False\n",
    "plot = False\n",
    "\n",
    "mu = -2\n",
    "sigma2 = 4\n",
    "sigma = np.sqrt(sigma2)\n",
    "L = 1000\n",
    "\n",
    "z = np.random.normal(mu, sigma, L)\n",
    "prop = evaluate_gaussian(z, mu, sigma)\n",
    "target = evaluate_johnsons(z)\n",
    "weight = target / prop\n",
    "\n",
    "x = np.linspace(-8,5,100)\n",
    "prop = evaluate_gaussian(x, mu, sigma)\n",
    "target = evaluate_johnsons(x)\n",
    "\n",
    "if plot:\n",
    "    fig = plt.figure(figsize=(8,6))\n",
    "    ax = plt.axes()\n",
    "    ax.hist(z, weights=weight, density=True, bins=50, alpha=0.5, label='Approx.')\n",
    "    ax.plot(x, prop, label='Proposal')\n",
    "    ax.plot(x, target, label='Target')\n",
    "    ax.set_xlabel('$x$')\n",
    "    ax.set_ylabel('$p(x)$')\n",
    "    ax.legend(loc=\"upper right\")\n",
    "    fig.tight_layout()\n",
    "    if save:\n",
    "        fig.savefig(path+r'\\E1.4.png', dpi=300)\n",
    "    plt.show()\n",
    "\n",
    "mean = np.sum(z*weight)/L\n",
    "var = np.sum(weight*(z-mean)**2)/L\n",
    "ic(L, mean, var)"
   ]
  },
  {
   "cell_type": "code",
   "execution_count": 55,
   "metadata": {},
   "outputs": [],
   "source": [
    "path = r'C:\\Users\\erikn\\skola\\SSY316-Advanced-Probabilistic-Machine-Learning\\assignment-5\\report-images'\n",
    "save = False\n",
    "plot = False\n",
    "\n",
    "Ls = np.linspace(1000, 10000, 10)\n",
    "means = []\n",
    "vars= []\n",
    "\n",
    "for L in Ls:\n",
    "    mu = -2\n",
    "    sigma2 = 4\n",
    "    sigma = np.sqrt(sigma2)\n",
    "    # L = 1000\n",
    "\n",
    "    z = np.random.normal(mu, sigma, int(L))\n",
    "    prop = evaluate_gaussian(z, mu, sigma)\n",
    "    target = evaluate_johnsons(z)\n",
    "    weight = target / prop\n",
    "\n",
    "    x = np.linspace(-8,5,100)\n",
    "    prop = evaluate_gaussian(x, mu, sigma)\n",
    "    target = evaluate_johnsons(x)\n",
    "\n",
    "    mean = np.sum(z*weight)/L\n",
    "    var = np.sum(weight*(z-mean)**2)/L\n",
    "    means.append(mean)\n",
    "    vars.append(var)\n",
    "\n",
    "if plot:\n",
    "    fig = plt.figure(figsize=(8,6))\n",
    "    ax = plt.axes()\n",
    "    ax.axhline(1.98, linestyle='--', color='red', label='True variance')\n",
    "    ax.plot(Ls, vars, label='Approx. variance')\n",
    "    ax.axhline(-1.41, linestyle='--', color='magenta', label='True mean')\n",
    "    ax.plot(Ls, means, label='Approx. mean')\n",
    "    ax.set_xlabel('Number of samples')\n",
    "    ax.set_ylabel('Estimate')\n",
    "    ax.legend(loc=\"right\")\n",
    "    fig.tight_layout()\n",
    "    if save:\n",
    "        fig.savefig(path+r'\\E1.5.png', dpi=300)\n",
    "    plt.show()"
   ]
  },
  {
   "cell_type": "code",
   "execution_count": 75,
   "metadata": {},
   "outputs": [
    {
     "name": "stderr",
     "output_type": "stream",
     "text": [
      "ic| L: 1000, mean: -1.1596953707899085, var: 1.021330415136612\n"
     ]
    },
    {
     "data": {
      "text/plain": [
       "(1000, -1.1596953707899085, 1.021330415136612)"
      ]
     },
     "execution_count": 75,
     "metadata": {},
     "output_type": "execute_result"
    }
   ],
   "source": [
    "path = r'C:\\Users\\erikn\\skola\\SSY316-Advanced-Probabilistic-Machine-Learning\\assignment-5\\report-images'\n",
    "save = True\n",
    "plot = True\n",
    "\n",
    "mu = -2\n",
    "sigma2 = 4\n",
    "sigma = np.sqrt(sigma2)\n",
    "L = 1000\n",
    "\n",
    "low = -4\n",
    "high = 1\n",
    "ymax = 1 / (high - low)\n",
    "\n",
    "z = np.random.uniform(low, high, L)\n",
    "prop = np.full_like(z, ymax)\n",
    "target = evaluate_johnsons(z)\n",
    "weight = target / prop\n",
    "\n",
    "x = np.linspace(-8,5,100)\n",
    "# prop = np.full_like(x, 1 / (high - low))\n",
    "target = evaluate_johnsons(x)\n",
    "\n",
    "if plot:\n",
    "    fig = plt.figure(figsize=(8,6))\n",
    "    ax = plt.axes()\n",
    "    ax.hist(z, weights=weight, density=True, bins=50, alpha=0.5, label='Approx.')\n",
    "    ax.plot(z, prop, label='Proposal')\n",
    "    ax.plot(x, target, label='Target')\n",
    "    ax.plot([low, low], [0, ymax], color='orange')\n",
    "    ax.plot([high, high], [0, ymax], color='orange')\n",
    "    ax.set_xlabel('$x$')\n",
    "    ax.set_ylabel('$p(x)$')\n",
    "    ax.legend(loc=\"upper right\")\n",
    "    fig.tight_layout()\n",
    "    if save:\n",
    "        fig.savefig(path+r'\\E1.6.png', dpi=300)\n",
    "    plt.show()\n",
    "\n",
    "mean = np.sum(z*weight)/L\n",
    "var = np.sum(weight*(z-mean)**2)/L\n",
    "ic(L, mean, var)"
   ]
  }
 ],
 "metadata": {
  "kernelspec": {
   "display_name": "venv_chalmers",
   "language": "python",
   "name": "python3"
  },
  "language_info": {
   "codemirror_mode": {
    "name": "ipython",
    "version": 3
   },
   "file_extension": ".py",
   "mimetype": "text/x-python",
   "name": "python",
   "nbconvert_exporter": "python",
   "pygments_lexer": "ipython3",
   "version": "3.10.0"
  }
 },
 "nbformat": 4,
 "nbformat_minor": 2
}
