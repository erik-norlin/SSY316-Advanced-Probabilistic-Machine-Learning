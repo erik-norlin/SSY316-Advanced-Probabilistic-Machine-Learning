{
 "cells": [
  {
   "cell_type": "code",
   "execution_count": 4,
   "metadata": {},
   "outputs": [],
   "source": [
    "import numpy as np\n",
    "from scipy.io import loadmat\n",
    "from mpl_toolkits import mplot3d\n",
    "import matplotlib.pyplot as plt\n",
    "import matplotlib.image as mpimg\n",
    "from matplotlib.pyplot import cm\n",
    "import matplotlib as mpl\n",
    "from icecream import ic\n",
    "import sympy as sp\n",
    "import scipy.stats as stats\n",
    "\n",
    "# %matplotlib inline\n",
    "%matplotlib qt\n",
    "%config InlineBackend.figure_format = 'retina'\n",
    "from matplotlib import rc\n",
    "rc('font', **{'family': 'serif', 'serif': ['Computer Modern']})\n",
    "rc('text', usetex=True)"
   ]
  },
  {
   "cell_type": "code",
   "execution_count": 5,
   "metadata": {},
   "outputs": [],
   "source": [
    "def evaluate_gaussian(x, mu, sigma):\n",
    "    p = 1/np.sqrt(2*np.pi*sigma**2)*np.exp(-((x-mu)**2)/(2*sigma**2))\n",
    "    return p"
   ]
  },
  {
   "cell_type": "code",
   "execution_count": 53,
   "metadata": {},
   "outputs": [
    {
     "name": "stderr",
     "output_type": "stream",
     "text": [
      "ic| np.mean(x): 0.031972498453530264, np.var(x): 1.282014830012676\n"
     ]
    },
    {
     "data": {
      "text/plain": [
       "(0.031972498453530264, 1.282014830012676)"
      ]
     },
     "execution_count": 53,
     "metadata": {},
     "output_type": "execute_result"
    }
   ],
   "source": [
    "path = r'C:\\Users\\erikn\\skola\\SSY316-Advanced-Probabilistic-Machine-Learning\\assignment-5\\report-images'\n",
    "save = False\n",
    "plot = False\n",
    "\n",
    "x = [5]\n",
    "\n",
    "for k in range(299):\n",
    "    x_next = 0.9*x[k] + np.random.normal(0, np.sqrt(0.19))\n",
    "    x.append(x_next)\n",
    "\n",
    "if plot:\n",
    "    xp = np.linspace(-4,4,100)\n",
    "    y = evaluate_gaussian(xp, 0, 1)\n",
    "    \n",
    "    fig = plt.figure(figsize=(8,6))\n",
    "    ax = plt.axes()\n",
    "    ax.hist(x, density=True, bins=20, alpha=0.5, label='MCMC')\n",
    "    ax.plot(xp, y, label='Gaussian')\n",
    "    ax.set_xlabel('$x$')\n",
    "    ax.set_ylabel('$p(x)$')\n",
    "    ax.legend(loc=\"upper right\")\n",
    "    fig.tight_layout()\n",
    "    if save:\n",
    "        fig.savefig(path+r'\\E2.2.png', dpi=300)\n",
    "    plt.show()\n",
    "\n",
    "    k = np.linspace(1,300,300)\n",
    "    \n",
    "    fig = plt.figure(figsize=(8,6))\n",
    "    ax = plt.axes()\n",
    "    ax.plot(k, x)\n",
    "    ax.set_xlabel('$k$')\n",
    "    ax.set_ylabel('$x$')\n",
    "    fig.tight_layout()\n",
    "    if save:\n",
    "        fig.savefig(path+r'\\E2.3.png', dpi=300)\n",
    "    plt.show()\n",
    "    # mean and var (0.69700374324875, 1.2313778458425388)\n",
    "\n",
    "ic(np.mean(x), np.var(x))"
   ]
  }
 ],
 "metadata": {
  "kernelspec": {
   "display_name": "venv_chalmers",
   "language": "python",
   "name": "python3"
  },
  "language_info": {
   "codemirror_mode": {
    "name": "ipython",
    "version": 3
   },
   "file_extension": ".py",
   "mimetype": "text/x-python",
   "name": "python",
   "nbconvert_exporter": "python",
   "pygments_lexer": "ipython3",
   "version": "3.10.0"
  }
 },
 "nbformat": 4,
 "nbformat_minor": 2
}
