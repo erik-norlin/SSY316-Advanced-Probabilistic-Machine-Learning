{
 "cells": [
  {
   "cell_type": "code",
   "execution_count": 110,
   "metadata": {},
   "outputs": [],
   "source": [
    "import numpy as np\n",
    "import numpy.linalg as la \n",
    "import matplotlib.pyplot as plt\n",
    "import pandas as pd\n",
    "import scipy.stats as st\n",
    "import pymc3 as pm\n",
    "\n",
    "# plt.rcParams['figure.figsize'] = [16,8]\n",
    "# plt.rcParams.update({'font.size': 18})\n",
    "%config InlineBackend.figure_format = 'retina'\n",
    "from matplotlib import rc\n",
    "rc('font', **{'family': 'serif', 'serif': ['Computer Modern']})\n",
    "rc('text', usetex=True)"
   ]
  },
  {
   "cell_type": "code",
   "execution_count": 111,
   "metadata": {},
   "outputs": [],
   "source": [
    "dataf = pd.read_csv('premier_league_2013_2014.dat', sep=',', header=None)\n",
    "dataf.columns = ['goals_home', 'goals_away', 'home_team', 'away_team']"
   ]
  },
  {
   "cell_type": "code",
   "execution_count": 123,
   "metadata": {},
   "outputs": [],
   "source": [
    "def enforce_corner_constraint(theta, n_teams):\n",
    "    theta[0] = theta[n_teams] = 0\n",
    "    return theta\n",
    "\n",
    "def propose_samples(current, sigma):\n",
    "    I = np.eye(current.shape[0])\n",
    "    proposal = np.random.multivariate_normal(current, sigma*I)\n",
    "    return proposal\n",
    "\n",
    "def compute_hyper_prior_probabilities(eta):\n",
    "    tau1 = 1/0.0001\n",
    "    alpha = beta = 0.1\n",
    "\n",
    "    mu_attack_logprob = st.norm(0, 1/np.sqrt(tau1)).logpdf(eta[0])\n",
    "    mu_defense_logprob = st.norm(0, 1/np.sqrt(tau1)).logpdf(eta[1])\n",
    "    tau_attack_logprob = st.gamma(alpha, scale=1/beta).logpdf(eta[2])\n",
    "    tau_defense_logprob = st.gamma(alpha, scale=1/beta).logpdf(eta[3])\n",
    "\n",
    "    eta_logprob = mu_attack_logprob + mu_defense_logprob + tau_attack_logprob + tau_defense_logprob\n",
    "    return eta_logprob\n",
    "\n",
    "def compute_prior_probabilities(eta, theta, n_teams):\n",
    "    tau0 = 1/0.0001\n",
    "\n",
    "    mu_att = eta[0]\n",
    "    mu_def = eta[1]\n",
    "    tau_att = eta[2]\n",
    "    tau_def = eta[3]\n",
    "    \n",
    "    home = theta[-1]\n",
    "    attack = theta[:n_teams]\n",
    "    defense = theta[n_teams:-1]\n",
    "\n",
    "    home_logprob = st.norm(0, 1/np.sqrt(tau0)).logpdf(home)\n",
    "    attack_logprob = st.norm(mu_att, 1/np.sqrt(tau_att)).logpdf(attack)\n",
    "    defense_logprob = st.norm(mu_def, 1/np.sqrt(tau_def)).logpdf(defense)\n",
    "\n",
    "    theta_prob = home_logprob + np.sum(attack_logprob + defense_logprob)\n",
    "    return theta_prob\n",
    "\n",
    "def compute_likelihood(theta, n_teams, dataf):\n",
    "\n",
    "    goals_home = dataf['goals_home'].values.astype(int)\n",
    "    goals_away = dataf['goals_away'].values.astype(int)\n",
    "    home_team = dataf['home_team'].values.astype(int)\n",
    "    away_team = dataf['away_team'].values.astype(int)\n",
    "\n",
    "    home = theta[-1]\n",
    "    attack = theta[:n_teams]\n",
    "    defense = theta[n_teams:-1]\n",
    "\n",
    "    theta_home = np.exp(home + attack[home_team] - defense[away_team])\n",
    "    theta_away = np.exp(attack[away_team] - defense[home_team])\n",
    "    \n",
    "    loglikelihood_home = st.poisson(theta_home).logpmf(goals_home)\n",
    "    loglikelihood_away = st.poisson(theta_away).logpmf(goals_away)\n",
    "\n",
    "    loglikelihood = np.sum(loglikelihood_home + loglikelihood_away)\n",
    "    return loglikelihood\n",
    "\n",
    "def compute_probabilities(eta, theta, n_teams, dataf):\n",
    "    eta_logprob = compute_hyper_prior_probabilities(eta)\n",
    "    theta_logprob = compute_prior_probabilities(eta, theta, n_teams)\n",
    "    loglikelihood = compute_likelihood(theta, n_teams, dataf)\n",
    "    logprob = eta_logprob + theta_logprob + loglikelihood\n",
    "    return logprob\n",
    "\n",
    "def metropolis_hastings(n_samples, sigma, dataf, thinning, burn_in):\n",
    "\n",
    "    n_teams = 20\n",
    "    starting_point = 0.1\n",
    "    eta_current = np.full(4, starting_point)\n",
    "    theta_current = enforce_corner_constraint(np.full(1+n_teams*2, starting_point), n_teams)\n",
    "    samples = []\n",
    "    \n",
    "    for t in range(n_samples):\n",
    "\n",
    "        eta_proposal = propose_samples(eta_current, sigma)\n",
    "        theta_proposal = enforce_corner_constraint(propose_samples(theta_current, sigma), n_teams)\n",
    "\n",
    "        current_logprob = compute_probabilities(eta_current, theta_current, n_teams, dataf)\n",
    "        proposal_logprob = compute_probabilities(eta_proposal, theta_proposal, n_teams, dataf)\n",
    "        acceptance_logprob = proposal_logprob - current_logprob\n",
    "\n",
    "        u = np.random.uniform()\n",
    "        if np.log(u) < acceptance_logprob:\n",
    "            eta_current = eta_proposal.copy()\n",
    "            theta_current = theta_proposal.copy()\n",
    "        \n",
    "        if (t % thinning == 0) and (t > burn_in):\n",
    "            samples.append([eta_current.copy(), theta_current.copy()])\n",
    "\n",
    "    return samples"
   ]
  },
  {
   "cell_type": "code",
   "execution_count": 124,
   "metadata": {},
   "outputs": [
    {
     "name": "stderr",
     "output_type": "stream",
     "text": [
      "C:\\Users\\erikn\\AppData\\Local\\Temp\\ipykernel_388\\1367081123.py:35: RuntimeWarning: invalid value encountered in sqrt\n",
      "  attack_logprob = st.norm(mu_att, 1/np.sqrt(tau_att)).logpdf(attack)\n"
     ]
    }
   ],
   "source": [
    "n_samples = 10\n",
    "sigmas = [0.005, 0.05, 0.5]\n",
    "thinning = [1, 5, 20, 50]\n",
    "burn_in = 10\n",
    "\n",
    "for i in range(len(sigmas)):\n",
    "    samples = metropolis_hastings(n_samples, sigmas[i], dataf, thinning[i], burn_in)\n",
    "    break"
   ]
  },
  {
   "cell_type": "code",
   "execution_count": 106,
   "metadata": {},
   "outputs": [
    {
     "name": "stdout",
     "output_type": "stream",
     "text": [
      "0.0005999435130517092 [ 0.          0.9193612   0.75510683  0.12444181  0.25732103  0.02161338\n",
      "  0.7972385  -0.10846091  0.24090788  0.41470819 -0.29768518 -0.1282222\n",
      "  0.33784883 -0.51661573 -0.51086637  0.98380653 -1.00928912  0.16073458\n",
      "  0.30995141 -1.99319773] [ 0.         -0.91728703  0.50857573  0.33846646  0.48485596 -0.63676431\n",
      " -4.28147731  2.39820147  1.53051061 -0.70307521  2.07114262 -2.60504444\n",
      " -0.38097132  2.42968423  0.12095222 -1.42639252  2.29115609 -1.58943519\n",
      "  0.83696372  0.97117246]\n"
     ]
    },
    {
     "ename": "ValueError",
     "evalue": "The model does not contain any free variables.",
     "output_type": "error",
     "traceback": [
      "\u001b[1;31m---------------------------------------------------------------------------\u001b[0m",
      "\u001b[1;31mValueError\u001b[0m                                Traceback (most recent call last)",
      "Cell \u001b[1;32mIn[106], line 30\u001b[0m\n\u001b[0;32m     27\u001b[0m     goals_home \u001b[38;5;241m=\u001b[39m pm\u001b[38;5;241m.\u001b[39mPoisson(\u001b[38;5;124m'\u001b[39m\u001b[38;5;124mgoals_home\u001b[39m\u001b[38;5;124m'\u001b[39m, mu\u001b[38;5;241m=\u001b[39mtheta_home, observed\u001b[38;5;241m=\u001b[39mdf[\u001b[38;5;124m'\u001b[39m\u001b[38;5;124mgoals_home\u001b[39m\u001b[38;5;124m'\u001b[39m])\n\u001b[0;32m     28\u001b[0m     goals_away \u001b[38;5;241m=\u001b[39m pm\u001b[38;5;241m.\u001b[39mPoisson(\u001b[38;5;124m'\u001b[39m\u001b[38;5;124mgoals_away\u001b[39m\u001b[38;5;124m'\u001b[39m, mu\u001b[38;5;241m=\u001b[39mtheta_away, observed\u001b[38;5;241m=\u001b[39mdf[\u001b[38;5;124m'\u001b[39m\u001b[38;5;124mgoals_away\u001b[39m\u001b[38;5;124m'\u001b[39m])\n\u001b[1;32m---> 30\u001b[0m     trace \u001b[38;5;241m=\u001b[39m \u001b[43mpm\u001b[49m\u001b[38;5;241;43m.\u001b[39;49m\u001b[43msample\u001b[49m\u001b[43m(\u001b[49m\u001b[38;5;241;43m5000\u001b[39;49m\u001b[43m,\u001b[49m\u001b[43m \u001b[49m\u001b[43mtune\u001b[49m\u001b[38;5;241;43m=\u001b[39;49m\u001b[38;5;241;43m1000\u001b[39;49m\u001b[43m)\u001b[49m\n\u001b[0;32m     32\u001b[0m \u001b[38;5;66;03m# pm.summary(trace).round(2)\u001b[39;00m\n",
      "File \u001b[1;32mc:\\Users\\erikn\\skola\\venv_chalmers\\lib\\site-packages\\deprecat\\classic.py:215\u001b[0m, in \u001b[0;36mdeprecat.<locals>.wrapper_function\u001b[1;34m(wrapped_, instance_, args_, kwargs_)\u001b[0m\n\u001b[0;32m    213\u001b[0m         \u001b[38;5;28;01melse\u001b[39;00m:\n\u001b[0;32m    214\u001b[0m             warnings\u001b[38;5;241m.\u001b[39mwarn(message, category\u001b[38;5;241m=\u001b[39mcategory, stacklevel\u001b[38;5;241m=\u001b[39m_routine_stacklevel)\n\u001b[1;32m--> 215\u001b[0m \u001b[38;5;28;01mreturn\u001b[39;00m wrapped_(\u001b[38;5;241m*\u001b[39margs_, \u001b[38;5;241m*\u001b[39m\u001b[38;5;241m*\u001b[39mkwargs_)\n",
      "File \u001b[1;32mc:\\Users\\erikn\\skola\\venv_chalmers\\lib\\site-packages\\pymc3\\sampling.py:506\u001b[0m, in \u001b[0;36msample\u001b[1;34m(draws, step, init, n_init, initvals, trace, chain_idx, chains, cores, tune, progressbar, model, random_seed, discard_tuned_samples, compute_convergence_checks, callback, jitter_max_retries, start, return_inferencedata, idata_kwargs, mp_ctx, pickle_backend, **kwargs)\u001b[0m\n\u001b[0;32m    503\u001b[0m draws \u001b[38;5;241m+\u001b[39m\u001b[38;5;241m=\u001b[39m tune\n\u001b[0;32m    505\u001b[0m \u001b[38;5;28;01mif\u001b[39;00m model\u001b[38;5;241m.\u001b[39mndim \u001b[38;5;241m==\u001b[39m \u001b[38;5;241m0\u001b[39m:\n\u001b[1;32m--> 506\u001b[0m     \u001b[38;5;28;01mraise\u001b[39;00m \u001b[38;5;167;01mValueError\u001b[39;00m(\u001b[38;5;124m\"\u001b[39m\u001b[38;5;124mThe model does not contain any free variables.\u001b[39m\u001b[38;5;124m\"\u001b[39m)\n\u001b[0;32m    508\u001b[0m \u001b[38;5;28;01mif\u001b[39;00m step \u001b[38;5;129;01mis\u001b[39;00m \u001b[38;5;28;01mNone\u001b[39;00m \u001b[38;5;129;01mand\u001b[39;00m init \u001b[38;5;129;01mis\u001b[39;00m \u001b[38;5;129;01mnot\u001b[39;00m \u001b[38;5;28;01mNone\u001b[39;00m \u001b[38;5;129;01mand\u001b[39;00m all_continuous(model\u001b[38;5;241m.\u001b[39mvars):\n\u001b[0;32m    509\u001b[0m     \u001b[38;5;28;01mtry\u001b[39;00m:\n\u001b[0;32m    510\u001b[0m         \u001b[38;5;66;03m# By default, try to use NUTS\u001b[39;00m\n",
      "\u001b[1;31mValueError\u001b[0m: The model does not contain any free variables."
     ]
    }
   ],
   "source": [
    "with pm.Model() as model:\n",
    "\n",
    "    n_teams = 20\n",
    "    n_games = 380\n",
    "\n",
    "    tau0 = 1/0.0001\n",
    "    tau1 = 1/0.0001\n",
    "    alpha = beta = 1\n",
    "\n",
    "    mu_attack = np.random.normal(0, 1/np.sqrt(tau1)) \n",
    "    mu_defense = np.random.normal(0, 1/np.sqrt(tau1)) \n",
    "    tau_attack = np.random.gamma(alpha, scale=1/beta)\n",
    "    tau_defense = np.random.gamma(alpha, scale=1/beta)\n",
    "\n",
    "    home = np.random.normal(0, 1/np.sqrt(tau0))\n",
    "    attack = np.random.normal(mu_attack, 1/np.sqrt(tau_attack), n_teams)\n",
    "    defense = np.random.normal(mu_defense, 1/np.sqrt(tau_defense), n_teams)\n",
    "\n",
    "    attack[0] = 0\n",
    "    defense[0] = 0\n",
    "\n",
    "    theta_home = np.exp(home + attack[ht] + defense[at])\n",
    "    theta_away = np.exp(attack[at] + defense[ht])\n",
    "\n",
    "    print(home, attack, defense)\n",
    "\n",
    "    goals_home = pm.Poisson('goals_home', mu=theta_home, observed=df['goals_home'])\n",
    "    goals_away = pm.Poisson('goals_away', mu=theta_away, observed=df['goals_away'])\n",
    "\n",
    "    trace = pm.sample(5000, tune=1000)\n",
    "\n",
    "# pm.summary(trace).round(2)"
   ]
  }
 ],
 "metadata": {
  "kernelspec": {
   "display_name": "venv_chalmers",
   "language": "python",
   "name": "python3"
  },
  "language_info": {
   "codemirror_mode": {
    "name": "ipython",
    "version": 3
   },
   "file_extension": ".py",
   "mimetype": "text/x-python",
   "name": "python",
   "nbconvert_exporter": "python",
   "pygments_lexer": "ipython3",
   "version": "3.10.0"
  }
 },
 "nbformat": 4,
 "nbformat_minor": 2
}
