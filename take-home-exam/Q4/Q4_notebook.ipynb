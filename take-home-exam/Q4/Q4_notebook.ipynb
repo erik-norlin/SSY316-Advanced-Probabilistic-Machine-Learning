{
 "cells": [
  {
   "cell_type": "code",
   "execution_count": null,
   "metadata": {},
   "outputs": [],
   "source": [
    "import numpy as np\n",
    "import numpy.linalg as la \n",
    "import matplotlib.pyplot as plt\n",
    "import pandas as pd\n",
    "from sklearn.decomposition import PCA\n",
    "\n",
    "# plt.rcParams['figure.figsize'] = [16,8]\n",
    "# plt.rcParams.update({'font.size': 18})\n",
    "%config InlineBackend.figure_format = 'retina'\n",
    "from matplotlib import rc\n",
    "rc('font', **{'family': 'serif', 'serif': ['Computer Modern']})\n",
    "rc('text', usetex=True)\n",
    "\n",
    "# # fig = plt.figure() \n",
    "# # plt.plot(samples, tot_dists)\n",
    "# # plt.xlabel('Sample')\n",
    "# # plt.ylabel('Max distance')\n",
    "# # plt.show()"
   ]
  }
 ],
 "metadata": {
  "language_info": {
   "name": "python"
  }
 },
 "nbformat": 4,
 "nbformat_minor": 2
}
